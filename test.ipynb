{
 "cells": [
  {
   "cell_type": "code",
   "execution_count": 4,
   "id": "e3e36944",
   "metadata": {},
   "outputs": [],
   "source": [
    "import pandas as pd\n",
    "total = r\"C:\\Users\\jda\\Desktop\\Speciale\\actions_xt_succ_fail.xlsx\"\n",
    "df = pd.read_excel(total)\n"
   ]
  },
  {
   "cell_type": "code",
   "execution_count": 6,
   "id": "1f9ab0fd",
   "metadata": {},
   "outputs": [
    {
     "name": "stdout",
     "output_type": "stream",
     "text": [
      "              player_name   xT_succ\n",
      "58            Daniel Wass  6.139721\n",
      "200          Martin Frese  5.562091\n",
      "28            Aral Simsir  4.596370\n",
      "151           Kian Hansen  4.510083\n",
      "242        Nicolai Vallys  4.487390\n",
      "..                    ...       ...\n",
      "32          August Priske -0.052922\n",
      "11          Alhaji Kamara -0.053645\n",
      "328  Tochi Phil Chukwuani -0.068961\n",
      "183       Malik Abubakari -0.074722\n",
      "189     Marcus Ingvartsen -0.117305\n",
      "\n",
      "[352 rows x 2 columns]\n"
     ]
    }
   ],
   "source": [
    "player_xt_sum = df.groupby('player_name')['xT_succ'].sum().reset_index()\n",
    "player_xt_sum = player_xt_sum.sort_values(by='xT_succ', ascending=False)\n",
    "print(player_xt_sum)"
   ]
  },
  {
   "cell_type": "code",
   "execution_count": 3,
   "id": "ebbec1a3",
   "metadata": {},
   "outputs": [
    {
     "name": "stdout",
     "output_type": "stream",
     "text": [
      "              player_name        xT\n",
      "237      Nicolai Boilesen  0.242610\n",
      "282           Rezan Corlu  0.042279\n",
      "60           David Colina  0.029572\n",
      "147           Kasper Kusk  0.026665\n",
      "220  Mikel Krüger-Johnsen  0.015636\n",
      "..                    ...       ...\n",
      "307       Sverrir Ingason -2.615592\n",
      "242        Nicolai Vallys -2.663274\n",
      "200          Martin Frese -2.671676\n",
      "95           Gue-Sung Cho -2.856914\n",
      "126        Jeppe Tverskov -3.076645\n",
      "\n",
      "[352 rows x 2 columns]\n"
     ]
    }
   ],
   "source": [
    "df['xT'] = df.apply(lambda row: row['xT_succ'] if row['result_id'] == 1 else row['xT_fail'], axis=1)\n",
    "player_xt_sum = df.groupby('player_name')['xT'].sum().reset_index()\n",
    "#order by xT in descending order\n",
    "player_xt_sum = player_xt_sum.sort_values(by='xT', ascending=False)\n",
    "print(player_xt_sum)"
   ]
  }
 ],
 "metadata": {
  "kernelspec": {
   "display_name": ".venv",
   "language": "python",
   "name": "python3"
  },
  "language_info": {
   "codemirror_mode": {
    "name": "ipython",
    "version": 3
   },
   "file_extension": ".py",
   "mimetype": "text/x-python",
   "name": "python",
   "nbconvert_exporter": "python",
   "pygments_lexer": "ipython3",
   "version": "3.11.9"
  }
 },
 "nbformat": 4,
 "nbformat_minor": 5
}
