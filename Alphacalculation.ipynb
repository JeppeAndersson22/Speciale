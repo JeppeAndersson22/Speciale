{
  "cells": [
    {
      "cell_type": "code",
      "execution_count": null,
      "metadata": {
        "id": "AraAi7t3mnFD"
      },
      "outputs": [],
      "source": [
        "from google.colab import drive\n",
        "import pandas as pd\n",
        "import numpy as np"
      ]
    },
    {
      "cell_type": "code",
      "execution_count": null,
      "metadata": {
        "id": "_BuoIwBgtcQT"
      },
      "outputs": [],
      "source": [
        "pd.set_option('display.max_columns', None)  # show all columns\n",
        "pd.set_option('display.width', 200)         # adjust based on terminal width\n",
        "pd.set_option('display.float_format', '{:.5f}'.format)  # float precision\n",
        "pd.set_option(\"display.precision\", 5)"
      ]
    },
    {
      "cell_type": "code",
      "execution_count": null,
      "metadata": {
        "colab": {
          "base_uri": "https://localhost:8080/"
        },
        "id": "5qsFXjiPm4vM",
        "outputId": "6a9df88b-6db8-4f6a-84bf-37e63502c9c9"
      },
      "outputs": [
        {
          "name": "stdout",
          "output_type": "stream",
          "text": [
            "Mounted at /content/gdrive\n"
          ]
        }
      ],
      "source": [
        "# Mount Google Drive\n",
        "drive.mount('/content/gdrive')\n",
        "\n",
        "# Load the dataset (Excel file)\n",
        "file_path = '/content/gdrive/My Drive/xtdata.csv'\n",
        "xT = pd.read_csv(file_path)"
      ]
    },
    {
      "cell_type": "code",
      "execution_count": null,
      "metadata": {
        "id": "N210td6cZpjY"
      },
      "outputs": [],
      "source": [
        "file_path = '/content/gdrive/My Drive/Riskv13.csv'\n",
        "risk = pd.read_csv(file_path)"
      ]
    },
    {
      "cell_type": "code",
      "execution_count": null,
      "metadata": {
        "id": "IOMoW5NRB-2z"
      },
      "outputs": [],
      "source": [
        "file_path = '/content/gdrive/My Drive/xtdatasucc.csv'\n",
        "succ = pd.read_csv(file_path)"
      ]
    },
    {
      "cell_type": "code",
      "execution_count": null,
      "metadata": {
        "id": "a0tBy8a7aRX3"
      },
      "outputs": [],
      "source": [
        "xt = xT[[\"original_event_id\",\"team_name\", \"xT\", \"xT_unsucc\", \"start_x\", \"start_y\", 'end_x', 'end_y']]"
      ]
    },
    {
      "cell_type": "code",
      "execution_count": null,
      "metadata": {
        "id": "jgcmxVy6anbH"
      },
      "outputs": [],
      "source": [
        "# Perform the left join on 'original_event_id'\n",
        "merged_df = pd.merge(\n",
        "    risk,\n",
        "    xt,\n",
        "    on='original_event_id',\n",
        "    how='left'\n",
        ")"
      ]
    },
    {
      "cell_type": "code",
      "execution_count": null,
      "metadata": {
        "id": "p963-OXuDwV7"
      },
      "outputs": [],
      "source": [
        "merged_df = pd.merge(\n",
        "    merged_df,\n",
        "    succ[['original_event_id', 'xT_succ']],\n",
        "    on='original_event_id',\n",
        "    how='left'\n",
        ")"
      ]
    },
    {
      "cell_type": "code",
      "execution_count": null,
      "metadata": {
        "id": "jgTTbsbqb68p"
      },
      "outputs": [],
      "source": [
        "# Select the desired columns\n",
        "ready_df = merged_df[[\n",
        "    'game_id',\n",
        "    'original_event_id',\n",
        "    'team_name',\n",
        "    'player_id',\n",
        "    'player_name',\n",
        "    'starting_position',\n",
        "    'result_id',\n",
        "    'predicted_class',\n",
        "    'predicted_prob',\n",
        "    'xT',\n",
        "    'xT_unsucc',\n",
        "    'xT_succ',\n",
        "    'start_x',\n",
        "    'start_y',\n",
        "    'end_x',\n",
        "    'end_y'\n",
        "]].copy()"
      ]
    },
    {
      "cell_type": "code",
      "execution_count": null,
      "metadata": {
        "colab": {
          "base_uri": "https://localhost:8080/"
        },
        "id": "6L6Uy84CxGYK",
        "outputId": "f09d92c3-9a08-45a9-98b3-4b46aada534f"
      },
      "outputs": [],
      "source": [
        "# Group by player and calculate sum, count, and mean of xT\n",
        "xT_by_player = ready_df.groupby(\"player_name\")[\"xT\"].agg(\n",
        "    total_xT=\"sum\",\n",
        "    num_passes=\"count\",\n",
        "    avg_xT=\"mean\"\n",
        ").reset_index()\n",
        "\n",
        "xT_by_player = xT_by_player[xT_by_player['num_passes'] > 50].copy()\n",
        "\n",
        "\n",
        "# Sort by total xT descending\n",
        "xT_by_player = xT_by_player.sort_values(\"total_xT\", ascending=False)\n",
        "\n",
        "# Display top 20 players\n",
        "print(xT_by_player.head(20))\n",
        "\n",
        "xT_by_player.to_excel('/content/gdrive/MyDrive/xt_sum_Top.xlsx')"
      ]
    },
    {
      "cell_type": "markdown",
      "metadata": {
        "id": "L_TtaS3lUcW8"
      },
      "source": [
        "#### STANDARD DEV"
      ]
    },
    {
      "cell_type": "code",
      "execution_count": null,
      "metadata": {
        "id": "bTXrMa7EQ8M6"
      },
      "outputs": [],
      "source": [
        "ready_df1 = ready_df.copy()\n",
        "\n",
        "# Step 0: Compute expected return for each pass\n",
        "ready_df1[\"expected_return\"] = (\n",
        "    ready_df1[\"predicted_prob\"] * ready_df1[\"xT_succ\"] +\n",
        "    (1 - ready_df1[\"predicted_prob\"]) * ready_df1[\"xT_unsucc\"]\n",
        ")\n",
        "\n",
        "# Step 1: Group by player and aggregate expected return, xT, and pass count\n",
        "player_stats = ready_df1.groupby(\"player_name\").agg(\n",
        "    Expected_return=(\"expected_return\", \"sum\"),\n",
        "    total_xT=(\"xT\", \"sum\"),\n",
        "    num_passes=(\"xT\", \"count\")\n",
        ")\n",
        "\n",
        "# Remove players with fewer than 50 passes\n",
        "player_stats = player_stats[player_stats['num_passes'] > 50].copy()\n",
        "\n",
        "# Step 2: Calculate average xT and average expected return per player\n",
        "player_stats[\"avg_xT\"] = player_stats[\"total_xT\"] / player_stats[\"num_passes\"]\n",
        "player_stats[\"avg_Expected_return\"] = player_stats[\"Expected_return\"] / player_stats[\"num_passes\"]\n",
        "\n",
        "# Step 3: Merge avg_Expected_return back into ready_df1\n",
        "ready_df1 = ready_df1.merge(player_stats[[\"avg_Expected_return\"]], on=\"player_name\", how=\"left\")\n",
        "\n",
        "# Step 4: Calculate squared deviations from player's average expected return\n",
        "ready_df1[\"squared_diff\"] = (ready_df1[\"xT\"] - ready_df1[\"avg_Expected_return\"])**2\n",
        "\n",
        "# Step 5: Sum of squared deviations per player\n",
        "squared_diff_sum = ready_df1.groupby(\"player_name\")[\"squared_diff\"].sum()\n",
        "\n",
        "# Step 6: Compute sample variance (divide by n - 1)\n",
        "variance = squared_diff_sum / (player_stats[\"num_passes\"] - 1)\n",
        "variance = variance.rename(\"var_xT\")\n",
        "\n",
        "# Step 7: Merge variance into player_stats\n",
        "player_stats = player_stats.join(variance)\n",
        "\n",
        "# Reset index to make player_name a regular column\n",
        "player_stats = player_stats.reset_index()\n"
      ]
    },
    {
      "cell_type": "code",
      "execution_count": null,
      "metadata": {
        "colab": {
          "base_uri": "https://localhost:8080/",
          "height": 816
        },
        "id": "BJKamCU5SuCK",
        "outputId": "c09b4784-2431-49cb-df9e-3787e25233d5"
      },
      "outputs": [
        {
          "name": "stdout",
          "output_type": "stream",
          "text": [
            "R² value: 0.23301764547927684\n",
            "P-value: 3.442506250199646e-12\n",
            "Slope (beta): 2.501969\n",
            "Intercept (alpha): -0.000896\n"
          ]
        },
        {
          "data": {
            "image/png": "[encoded data removed]",
            "text/plain": [
              "<Figure size 1000x800 with 1 Axes>"
            ]
          },
          "metadata": {},
          "output_type": "display_data"
        }
      ],
      "source": [
        "import matplotlib.pyplot as plt\n",
        "import numpy as np\n",
        "from sklearn.linear_model import LinearRegression\n",
        "from scipy import stats\n",
        "\n",
        "# Prepare data\n",
        "X = player_stats[\"var_xT\"].values  # Variance of xT (risk)\n",
        "y = player_stats[\"avg_xT\"].values  # Average xT (reward)\n",
        "\n",
        "# Fit regression model\n",
        "model = LinearRegression().fit(X.reshape(-1, 1), y)\n",
        "slope = model.coef_[0]\n",
        "intercept = model.intercept_\n",
        "r_squared = model.score(X.reshape(-1, 1), y)\n",
        "\n",
        "# Compute p-value using scipy's linregress\n",
        "slope_, intercept_, r_value, p_value, std_err = stats.linregress(X, y)\n",
        "\n",
        "# Plot\n",
        "plt.figure(figsize=(10, 8))\n",
        "\n",
        "plt.scatter(X, y, alpha=0.3, label=\"Players\", color=\"skyblue\")\n",
        "\n",
        "# Regression line\n",
        "x_vals = np.linspace(X.min(), X.max(), 100).reshape(-1, 1)\n",
        "y_vals = model.predict(x_vals)\n",
        "plt.plot(x_vals, y_vals, color=\"darkblue\", linewidth=2, label=\"Regression line\")\n",
        "\n",
        "# Print regression details\n",
        "print(\"R² value:\", r_squared)\n",
        "print(\"P-value:\", p_value)\n",
        "print(f\"Slope (beta): {slope:.6f}\")\n",
        "print(f\"Intercept (alpha): {intercept:.6f}\")\n",
        "\n",
        "# Labels and legend with smaller font sizes\n",
        "plt.xlabel(\"Risk (Variance of xT)\", fontsize=12)\n",
        "plt.ylabel(\"Expected Threat (xT) - Reward\", fontsize=12)\n",
        "plt.title(\"Risk vs. Expected Threat (xT)\", fontsize=14)\n",
        "plt.xticks(fontsize=10)\n",
        "plt.yticks(fontsize=10)\n",
        "plt.legend(fontsize=11)\n",
        "plt.grid(True)\n",
        "\n",
        "plt.subplots_adjust(left=0.1, right=0.9, top=0.9, bottom=0.1)\n",
        "\n",
        "plt.show()\n"
      ]
    },
    {
      "cell_type": "code",
      "execution_count": null,
      "metadata": {
        "id": "xaQCk9uCbRtr"
      },
      "outputs": [],
      "source": [
        "# Calculate alpha for each player\n",
        "player_stats[\"alpha\"] = player_stats[\"avg_xT\"] - (slope * player_stats[\"var_xT\"] + intercept)\n"
      ]
    },
    {
      "cell_type": "code",
      "execution_count": null,
      "metadata": {
        "colab": {
          "base_uri": "https://localhost:8080/"
        },
        "id": "YmtcEfNJWLh1",
        "outputId": "b2cde892-f50a-4ccb-8cbd-cac58286049d"
      },
      "outputs": [],
      "source": [
        "# Sort by alpha in descending order\n",
        "sorted_player_stats = player_stats.sort_values(by='alpha', ascending=True)\n",
        "\n",
        "import pandas as pd\n",
        "# Display the players with their alpha values, sorted by alpha\n",
        "print(sorted_player_stats[['player_name', 'alpha', 'num_passes', 'total_xT', 'var_xT', 'avg_xT']].head(25))"
      ]
    },
    {
      "cell_type": "markdown",
      "metadata": {
        "id": "dDYJIIhyghNr"
      },
      "source": [
        "#### Player Categorization"
      ]
    },
    {
      "cell_type": "code",
      "execution_count": null,
      "metadata": {
        "colab": {
          "base_uri": "https://localhost:8080/",
          "height": 783
        },
        "id": "K_O9eriUgaRQ",
        "outputId": "eaf6ecfa-c792-444d-eaf3-b83cba3b09a2"
      },
      "outputs": [],
      "source": [
        "import matplotlib.pyplot as plt\n",
        "import seaborn as sns\n",
        "import pandas as pd\n",
        "\n",
        "# Set up plot aesthetics\n",
        "sns.set(style=\"whitegrid\", context=\"talk\")\n",
        "\n",
        "# Calculate medians for quadrant splitting\n",
        "median_std = player_stats[\"var_xT\"].median()\n",
        "median_alpha = player_stats[\"alpha\"].median()\n",
        "\n",
        "# Define color-coded quadrants\n",
        "def get_quadrant(row):\n",
        "    if row[\"var_xT\"] >= median_std and row[\"alpha\"] >= median_alpha:\n",
        "        return \"High Risk - High Reward\"\n",
        "    elif row[\"var_xT\"] < median_std and row[\"alpha\"] >= median_alpha:\n",
        "        return \"Low Risk - High Reward\"\n",
        "    elif row[\"var_xT\"] < median_std and row[\"alpha\"] < median_alpha:\n",
        "        return \"Low Risk - Low Reward\"\n",
        "    else:\n",
        "        return \"High Risk - Low Reward\"\n",
        "\n",
        "player_stats[\"quadrant\"] = player_stats.apply(get_quadrant, axis=1)\n",
        "\n",
        "# Color palette\n",
        "palette = {\n",
        "    \"High Risk - High Reward\": \"#1f77b4\",\n",
        "    \"Low Risk - High Reward\": \"#2ca02c\",\n",
        "    \"Low Risk - Low Reward\": \"#ff7f0e\",\n",
        "    \"High Risk - Low Reward\": \"#d62728\"\n",
        "}\n",
        "\n",
        "# Plot\n",
        "plt.figure(figsize=(12, 8))\n",
        "sns.scatterplot(\n",
        "    data=player_stats,\n",
        "    x=\"var_xT\",\n",
        "    y=\"alpha\",\n",
        "    hue=\"quadrant\",\n",
        "    palette=palette,\n",
        "    s=100,\n",
        "    edgecolor=\"black\"\n",
        ")\n",
        "\n",
        "# Add quadrant lines\n",
        "plt.axhline(median_alpha, color=\"gray\", linestyle=\"--\", linewidth=1)\n",
        "plt.axvline(median_std, color=\"gray\", linestyle=\"--\", linewidth=1)\n",
        "\n",
        "# Label standout players\n",
        "highlighted_players = [\n",
        "    \"Andreas Schjelderup\", \"Paulo Victor da Silva\", \"Lukas Lerager\",\n",
        "    \"Marcus Ingvartsen\", \"Alexander Lind\", \"Adam Gabriel\", \"Bashkim Kadrii\", \"Kevin Diks\", \"Gue-Sung Cho\", \"Marcus Lindberg\"\n",
        "]\n",
        "for _, row in player_stats[player_stats[\"player_name\"].isin(highlighted_players)].iterrows():\n",
        "    plt.text(row[\"var_xT\"] + 0.00001, row[\"alpha\"] + 0.00005,\n",
        "             row[\"player_name\"], fontsize=10, weight='bold')\n",
        "\n",
        "# Labels and title\n",
        "plt.title(\"Player Passing Styles: Risk vs Risk-Adjusted Reward (Alpha)\", fontsize=18)\n",
        "plt.xlabel(\"Variance of xT (Risk)\", fontsize=14)\n",
        "plt.ylabel(\"Alpha (Risk-Adjusted Value)\", fontsize=14)\n",
        "plt.legend(title=\"Quadrant\", fontsize=11, title_fontsize=12)\n",
        "plt.tight_layout()\n",
        "plt.show()\n"
      ]
    },
    {
      "cell_type": "code",
      "execution_count": null,
      "metadata": {
        "colab": {
          "base_uri": "https://localhost:8080/",
          "height": 783
        },
        "id": "eWooNm88_o0U",
        "outputId": "8dc16d03-067d-4d6e-a7d6-84f982f5484a"
      },
      "outputs": [],
      "source": [
        "import matplotlib.pyplot as plt\n",
        "import seaborn as sns\n",
        "import pandas as pd\n",
        "\n",
        "# Set up plot aesthetics\n",
        "sns.set(style=\"whitegrid\", context=\"talk\")\n",
        "\n",
        "# Calculate medians for quadrant splitting\n",
        "median_passes = player_stats[\"num_passes\"].median()\n",
        "median_alpha = player_stats[\"alpha\"].median()\n",
        "\n",
        "# Define quadrants based on volume (x) and value (y)\n",
        "def get_quadrant(row):\n",
        "    if row[\"num_passes\"] >= median_passes and row[\"alpha\"] >= median_alpha:\n",
        "        return \"High Volume - High Reward\"\n",
        "    elif row[\"num_passes\"] < median_passes and row[\"alpha\"] >= median_alpha:\n",
        "        return \"Low Volume - High Reward\"\n",
        "    elif row[\"num_passes\"] < median_passes and row[\"alpha\"] < median_alpha:\n",
        "        return \"Low Volume - Low Reward\"\n",
        "    else:\n",
        "        return \"High Volume - Low Reward\"\n",
        "\n",
        "player_stats[\"quadrant\"] = player_stats.apply(get_quadrant, axis=1)\n",
        "\n",
        "# Color palette\n",
        "palette = {\n",
        "    \"High Volume - High Reward\": \"#1f77b4\",\n",
        "    \"Low Volume - High Reward\": \"#2ca02c\",\n",
        "    \"Low Volume - Low Reward\": \"#ff7f0e\",\n",
        "    \"High Volume - Low Reward\": \"#d62728\"\n",
        "}\n",
        "\n",
        "# Plot\n",
        "plt.figure(figsize=(12, 8))\n",
        "sns.scatterplot(\n",
        "    data=player_stats,\n",
        "    x=\"num_passes\",\n",
        "    y=\"alpha\",\n",
        "    hue=\"quadrant\",\n",
        "    palette=palette,\n",
        "    s=100,\n",
        "    edgecolor=\"black\"\n",
        ")\n",
        "\n",
        "# Add quadrant lines\n",
        "plt.axhline(median_alpha, color=\"gray\", linestyle=\"--\", linewidth=1)\n",
        "plt.axvline(median_passes, color=\"gray\", linestyle=\"--\", linewidth=1)\n",
        "\n",
        "# Highlight specific players\n",
        "highlighted_players = [\n",
        "    \"Andreas Schjelderup\", \"Paulo Victor da Silva\", \"Lukas Lerager\",\n",
        "    \"Marcus Ingvartsen\", \"Alexander Lind\", \"Adamo Nagalo\", \"Bashkim Kadrii\",\n",
        "    \"Kevin Diks\", \"Gue-Sung Cho\", \"Mark Brink\"\n",
        "]\n",
        "for _, row in player_stats[player_stats[\"player_name\"].isin(highlighted_players)].iterrows():\n",
        "    plt.text(row[\"num_passes\"] + 1, row[\"alpha\"] + 0.00005,\n",
        "             row[\"player_name\"], fontsize=10, weight='bold')\n",
        "\n",
        "# Labels and title\n",
        "plt.title(\"Player Passing Profiles: Volume vs Risk-Adjusted Reward (Alpha)\", fontsize=18)\n",
        "plt.xlabel(\"Number of Passes\", fontsize=14)\n",
        "plt.ylabel(\"Alpha (Risk-Adjusted Value)\", fontsize=14)\n",
        "plt.legend(title=\"Quadrant\", fontsize=11, title_fontsize=12)\n",
        "plt.tight_layout()\n",
        "plt.show()\n"
      ]
    },
    {
      "cell_type": "code",
      "execution_count": null,
      "metadata": {
        "colab": {
          "base_uri": "https://localhost:8080/"
        },
        "id": "7E5--ct3kN6k",
        "outputId": "b83f67d1-5d11-4a7c-8187-0293e028be65"
      },
      "outputs": [],
      "source": [
        "# Get each player's most frequent starting position\n",
        "player_positions = (\n",
        "    ready_df.groupby('player_name')['starting_position']\n",
        "    .agg(lambda x: x.value_counts().idxmax())\n",
        "    .reset_index()\n",
        ")\n",
        "\n",
        "# Merge starting position into player_stats\n",
        "player_stats_with_position = player_stats.merge(\n",
        "    player_positions,\n",
        "    on='player_name',\n",
        "    how='left'\n",
        ")\n",
        "\n",
        "# Calculate average alpha by starting position and count players for each position\n",
        "avg_alpha_by_position = (\n",
        "    player_stats_with_position.groupby('starting_position').agg(\n",
        "        avg_alpha=('alpha', 'mean'),\n",
        "        num_players=('player_name', 'nunique')\n",
        "    )\n",
        "    .reset_index()\n",
        "    .sort_values(by='avg_alpha', ascending=False)\n",
        ")\n",
        "\n",
        "print(avg_alpha_by_position)\n",
        "\n"
      ]
    },
    {
      "cell_type": "markdown",
      "metadata": {
        "id": "ulM6DV2x17KL"
      },
      "source": [
        "#### Team level"
      ]
    },
    {
      "cell_type": "code",
      "execution_count": null,
      "metadata": {
        "colab": {
          "base_uri": "https://localhost:8080/"
        },
        "id": "pj-Tg_Utcwy0",
        "outputId": "70c45fda-4173-482f-96fc-6526e3d0ae5f"
      },
      "outputs": [],
      "source": [
        "# Step 1: Count passes per player\n",
        "passes_per_player = (\n",
        "    ready_df.groupby('player_name')\n",
        "    .size()\n",
        "    .reset_index(name='player_num_passes')\n",
        ")\n",
        "\n",
        "# Step 2: Total passes per team\n",
        "passes_per_team = (\n",
        "    ready_df.groupby('team_name')\n",
        "    .size()\n",
        "    .reset_index(name='team_total_passes')\n",
        ")\n",
        "\n",
        "# Step 3: Get player-to-team mapping (most frequent team)\n",
        "player_team_map = (\n",
        "    ready_df.groupby('player_name')['team_name']\n",
        "    .agg(lambda x: x.value_counts().idxmax())\n",
        "    .reset_index()\n",
        ")\n",
        "\n",
        "# Step 4: Merge everything into player_stats\n",
        "player_stats_extended = (\n",
        "    player_stats\n",
        "    .merge(passes_per_player, on='player_name', how='left')\n",
        "    .merge(player_team_map, on='player_name', how='left')\n",
        "    .merge(passes_per_team, on='team_name', how='left')\n",
        ")\n",
        "\n",
        "# Step 5: Compute weight and weighted alpha\n",
        "player_stats_extended['player_weight'] = (\n",
        "    player_stats_extended['player_num_passes'] / player_stats_extended['team_total_passes']\n",
        ")\n",
        "\n",
        "player_stats_extended['weighted_alpha'] = (\n",
        "    player_stats_extended['alpha'] * player_stats_extended['player_weight']\n",
        ")\n",
        "\n",
        "# Step 6: Compute weighted average alpha per team\n",
        "weighted_alpha_per_team = (\n",
        "    player_stats_extended.groupby('team_name')\n",
        "    .agg(\n",
        "        weighted_avg_alpha=('weighted_alpha', 'sum'),\n",
        "        num_players=('player_name', 'nunique')\n",
        "    )\n",
        "    .reset_index()\n",
        "    .sort_values(by='weighted_avg_alpha', ascending=False)\n",
        ")\n",
        "\n",
        "print(weighted_alpha_per_team)\n"
      ]
    },
    {
      "cell_type": "markdown",
      "metadata": {
        "id": "UBrNgR4mgItS"
      },
      "source": [
        "#### alpha vs. position"
      ]
    },
    {
      "cell_type": "code",
      "execution_count": null,
      "metadata": {
        "id": "rOXqUdwdgIWM"
      },
      "outputs": [],
      "source": [
        "import pandas as pd\n",
        "\n",
        "# Create a standings DataFrame manually\n",
        "standings_df = pd.DataFrame({\n",
        "    'team_name': [\n",
        "        'FC Midtjylland', 'Brøndby IF', 'FC København', 'FC Nordsjælland', 'AGF Aarhus', 'Silkeborg IF',\n",
        "        'Randers FC', 'Viborg FF', 'Vejle BK', 'Lyngby BK', 'Odense Boldklub', 'Hvidovre IF'\n",
        "    ],\n",
        "    'position': [1, 2, 3, 4, 5, 6, 7, 8, 9, 10, 11, 12],\n",
        "    'Points': [63, 62, 59, 58, 44, 36, 41, 40, 36, 36, 32, 20]\n",
        "})\n"
      ]
    },
    {
      "cell_type": "code",
      "execution_count": null,
      "metadata": {
        "colab": {
          "base_uri": "https://localhost:8080/",
          "height": 607
        },
        "id": "JtF1CdM7gLkX",
        "outputId": "7f6e90c9-4d94-43ee-cc32-63d210b2e65b"
      },
      "outputs": [],
      "source": [
        "import matplotlib.pyplot as plt\n",
        "import seaborn as sns\n",
        "from scipy.stats import linregress\n",
        "\n",
        "# Merge with standings data\n",
        "alpha_vs_points = weighted_alpha_per_team.merge(\n",
        "    standings_df,\n",
        "    on='team_name',\n",
        "    how='inner'\n",
        ")\n",
        "\n",
        "# Linear regression\n",
        "slope, intercept, r_value, p_value, std_err = linregress(\n",
        "    alpha_vs_points['position'],\n",
        "    alpha_vs_points['weighted_avg_alpha']\n",
        ")\n",
        "\n",
        "# Create predicted y values for the regression line\n",
        "regression_line = slope * alpha_vs_points['position'] + intercept\n",
        "\n",
        "# Plot\n",
        "plt.figure(figsize=(10, 6))\n",
        "sns.scatterplot(data=alpha_vs_points, x='position', y='weighted_avg_alpha', hue='team_name', s=100)\n",
        "\n",
        "# Add regression line\n",
        "plt.plot(alpha_vs_points['position'], regression_line, color='black', linestyle='-')\n",
        "\n",
        "# Add R² value as text on the plot\n",
        "plt.text(\n",
        "    x=alpha_vs_points['position'].min(),\n",
        "    y=alpha_vs_points['weighted_avg_alpha'].max(),\n",
        "    s=f'$R^2$ = {r_value**2:.2f}',\n",
        "    fontsize=12,\n",
        "    color='black'\n",
        ")\n",
        "\n",
        "# Add team labels to each point\n",
        "for _, row in alpha_vs_points.iterrows():\n",
        "    plt.text(row['position'] + 0.3, row['weighted_avg_alpha'], row['team_name'], fontsize=9)\n",
        "\n",
        "# Plot formatting\n",
        "plt.title('Weighted Alpha vs. Position by Team')\n",
        "plt.xlabel('League Position')\n",
        "plt.ylabel('Weighted Alpha')\n",
        "plt.axhline(0, color='gray', linestyle='--', linewidth=0.8)\n",
        "plt.grid(True)\n",
        "plt.tight_layout()\n",
        "plt.legend().remove()\n",
        "plt.show()\n"
      ]
    },
    {
      "cell_type": "markdown",
      "metadata": {},
      "source": [
        "#### Adjusted alpha"
      ]
    },
    {
      "cell_type": "code",
      "execution_count": null,
      "metadata": {
        "id": "DsCQtTARFwa2"
      },
      "outputs": [],
      "source": [
        "# Step 1: Merge position info into a new copy of player_stats_extended\n",
        "player_stats_extended1 = player_stats_extended.merge(\n",
        "    player_positions,\n",
        "    on='player_name',\n",
        "    how='left'\n",
        ")\n",
        "\n",
        "# Step 2: Merge in average alpha per position\n",
        "player_stats_extended1 = player_stats_extended1.merge(\n",
        "    avg_alpha_by_position[['starting_position', 'avg_alpha']],\n",
        "    on='starting_position',\n",
        "    how='left'\n",
        ").rename(columns={'avg_alpha': 'avg_alpha_position'})\n",
        "\n",
        "# Step 3: Merge in team weighted average alpha (renamed to avg_alpha_team)\n",
        "player_stats_extended1 = player_stats_extended1.merge(\n",
        "    weighted_alpha_per_team[['team_name', 'weighted_avg_alpha']].rename(\n",
        "        columns={'weighted_avg_alpha': 'avg_alpha_team'}\n",
        "    ),\n",
        "    on='team_name',\n",
        "    how='left'\n",
        ")\n",
        "\n",
        "# Step 4: Subtract both effects to calculate adjusted alpha\n",
        "player_stats_extended1['adjusted_alpha'] = (\n",
        "    player_stats_extended1['alpha']\n",
        "    - player_stats_extended1['avg_alpha_position']\n",
        "    - player_stats_extended1['avg_alpha_team']\n",
        ")\n",
        "\n",
        "# Step 5 (Optional): display or sort\n",
        "cols_to_show = [\n",
        "    'player_name', 'team_name', 'starting_position', 'player_num_passes', 'avg_xT',\n",
        "    'alpha', 'avg_alpha_position', 'avg_alpha_team', 'adjusted_alpha'\n",
        "]\n"
      ]
    },
    {
      "cell_type": "code",
      "execution_count": null,
      "metadata": {
        "id": "QKM0-ZnpJzRO"
      },
      "outputs": [],
      "source": [
        "# Sort by alpha in descending order\n",
        "player_stats_extended1 = player_stats_extended1.sort_values(by='adjusted_alpha', ascending=False)\n",
        "\n",
        "x= player_stats_extended1[['player_name', \"starting_position\", 'alpha', 'num_passes', \"adjusted_alpha\"]]\n",
        "\n",
        "player_stats_extended1 = player_stats_extended1.sort_values(by='adjusted_alpha', ascending=True)\n",
        "\n",
        "y = player_stats_extended1[['player_name', \"starting_position\", 'team_name', 'alpha', 'num_passes', \"adjusted_alpha\"]]\n",
        "\n",
        "x.to_excel('/content/gdrive/MyDrive/adj_alpha_top.xlsx')\n",
        "y.to_excel('/content/gdrive/MyDrive/adj_alpha_end.xlsx')"
      ]
    }
  ],
  "metadata": {
    "colab": {
      "provenance": []
    },
    "kernelspec": {
      "display_name": "Python 3",
      "name": "python3"
    },
    "language_info": {
      "name": "python"
    }
  },
  "nbformat": 4,
  "nbformat_minor": 0
}
