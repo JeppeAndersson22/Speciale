{
 "cells": [
  {
   "cell_type": "code",
   "execution_count": 1,
   "id": "4033e360",
   "metadata": {},
   "outputs": [],
   "source": [
    "import os\n",
    "import tqdm\n",
    "import pandas as pd\n",
    "import numpy as np\n",
    "#%load_ext autoreload\n",
    "#%autoreload 2\n",
    "import socceraction.spadl as spadl\n",
    "import socceraction.vaep.features as fs\n",
    "import socceraction.xthreat as xthreat\n",
    "import matplotsoccer as mps\n",
    "from scipy.interpolate import RectBivariateSpline\n",
    "import socceraction.spadl.config as spadlconfig\n"
   ]
  },
  {
   "cell_type": "code",
   "execution_count": 2,
   "id": "90ca1abe",
   "metadata": {},
   "outputs": [],
   "source": [
    "\n",
    "file_path = r\"C:\\Users\\jda\\Desktop\\Speciale\\xtmodelv2.pkl\"\n",
    "xTModel = xthreat.load_model(file_path)"
   ]
  },
  {
   "cell_type": "code",
   "execution_count": null,
   "id": "3005c199",
   "metadata": {},
   "outputs": [],
   "source": [
    "action_path = r\"C:\\Users\\jda\\Desktop\\Speciale\\alleactions.csv\"\n",
    "df = pd.read_csv(action_path)"
   ]
  },
  {
   "cell_type": "code",
   "execution_count": 12,
   "id": "010d5d00",
   "metadata": {},
   "outputs": [],
   "source": [
    "#drop where end_x is NaN\n",
    "df = df.dropna(subset=['end_x'])\n",
    "#only keep where type_name = 'pass' \n",
    "df = df[df[\"type_name\"].isin([\"pass\", \"cross\"])]"
   ]
  },
  {
   "cell_type": "code",
   "execution_count": 13,
   "id": "c62c6754",
   "metadata": {},
   "outputs": [],
   "source": [
    "df_test = df[df[\"result_id\"] == 0]"
   ]
  },
  {
   "cell_type": "code",
   "execution_count": 20,
   "id": "fa50892b",
   "metadata": {},
   "outputs": [
    {
     "name": "stderr",
     "output_type": "stream",
     "text": [
      "C:\\Users\\jda\\AppData\\Local\\Temp\\ipykernel_15060\\221340165.py:1: SettingWithCopyWarning: \n",
      "A value is trying to be set on a copy of a slice from a DataFrame.\n",
      "Try using .loc[row_indexer,col_indexer] = value instead\n",
      "\n",
      "See the caveats in the documentation: https://pandas.pydata.org/pandas-docs/stable/user_guide/indexing.html#returning-a-view-versus-a-copy\n",
      "  df_test[\"xT\"] = xTModel.rate(df_test)\n"
     ]
    }
   ],
   "source": [
    "df_test[\"xT\"] = xTModel.rate(df_test)\n",
    "#df[\"xT\"] = df[\"xT\"].apply(lambda x: max(x, 0))"
   ]
  },
  {
   "cell_type": "code",
   "execution_count": 8,
   "id": "022a3850",
   "metadata": {},
   "outputs": [
    {
     "name": "stdout",
     "output_type": "stream",
     "text": [
      "Number of NaN values in xT column: 0\n"
     ]
    }
   ],
   "source": [
    "num_na_xt = df[\"xT\"].isna().sum()\n",
    "print(f\"Number of NaN values in xT column: {num_na_xt}\")"
   ]
  },
  {
   "cell_type": "code",
   "execution_count": null,
   "id": "01747f5f",
   "metadata": {},
   "outputs": [],
   "source": [
    "df_unsuccess = df\n",
    "df_unsuccess[\"end_x\"] = 100-df_unsuccess[\"end_x\"]\n",
    "df_unsuccess[\"end_y\"] = 100-df_unsuccess[\"end_y\"]\n",
    "df[\"xT\"] = xTModel.rateunsuc(df_unsuccess)"
   ]
  }
 ],
 "metadata": {
  "kernelspec": {
   "display_name": ".venv",
   "language": "python",
   "name": "python3"
  },
  "language_info": {
   "codemirror_mode": {
    "name": "ipython",
    "version": 3
   },
   "file_extension": ".py",
   "mimetype": "text/x-python",
   "name": "python",
   "nbconvert_exporter": "python",
   "pygments_lexer": "ipython3",
   "version": "3.11.9"
  }
 },
 "nbformat": 4,
 "nbformat_minor": 5
}
