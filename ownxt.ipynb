{
 "cells": [
  {
   "cell_type": "code",
   "execution_count": 15,
   "metadata": {},
   "outputs": [
    {
     "name": "stdout",
     "output_type": "stream",
     "text": [
      "Folder path: C:/Users/jda/Desktop/Hvidovre IF - Silkeborg IF/python/data/!Processed/AGF_BIF\n",
      "Extracted number: 2367375\n"
     ]
    },
    {
     "name": "stderr",
     "output_type": "stream",
     "text": [
      "c:\\Users\\jda\\Desktop\\Hvidovre IF - Silkeborg IF\\python\\myenv-3.11\\Lib\\site-packages\\socceraction\\spadl\\opta.py:242: FutureWarning: Downcasting object dtype arrays on .fillna, .ffill, .bfill is deprecated and will change in a future version. Call result.infer_objects(copy=False) instead. To opt-in to the future behavior, set `pd.set_option('future.no_silent_downcasting', True)`\n",
      "  ).bfill()\n"
     ]
    },
    {
     "name": "stdout",
     "output_type": "stream",
     "text": [
      "Folder path: C:/Users/jda/Desktop/Hvidovre IF - Silkeborg IF/python/data/!Processed/AGF_FCK\n",
      "Extracted number: 2367393\n"
     ]
    },
    {
     "name": "stderr",
     "output_type": "stream",
     "text": [
      "c:\\Users\\jda\\Desktop\\Hvidovre IF - Silkeborg IF\\python\\myenv-3.11\\Lib\\site-packages\\socceraction\\spadl\\opta.py:242: FutureWarning: Downcasting object dtype arrays on .fillna, .ffill, .bfill is deprecated and will change in a future version. Call result.infer_objects(copy=False) instead. To opt-in to the future behavior, set `pd.set_option('future.no_silent_downcasting', True)`\n",
      "  ).bfill()\n"
     ]
    },
    {
     "name": "stdout",
     "output_type": "stream",
     "text": [
      "Folder path: C:/Users/jda/Desktop/Hvidovre IF - Silkeborg IF/python/data/!Processed/AGF_FCM\n",
      "Extracted number: 2367441\n"
     ]
    },
    {
     "name": "stderr",
     "output_type": "stream",
     "text": [
      "c:\\Users\\jda\\Desktop\\Hvidovre IF - Silkeborg IF\\python\\myenv-3.11\\Lib\\site-packages\\socceraction\\spadl\\opta.py:242: FutureWarning: Downcasting object dtype arrays on .fillna, .ffill, .bfill is deprecated and will change in a future version. Call result.infer_objects(copy=False) instead. To opt-in to the future behavior, set `pd.set_option('future.no_silent_downcasting', True)`\n",
      "  ).bfill()\n"
     ]
    },
    {
     "name": "stdout",
     "output_type": "stream",
     "text": [
      "Folder path: C:/Users/jda/Desktop/Hvidovre IF - Silkeborg IF/python/data/!Processed/AGF_FCN\n",
      "Extracted number: 2367344\n"
     ]
    },
    {
     "name": "stderr",
     "output_type": "stream",
     "text": [
      "c:\\Users\\jda\\Desktop\\Hvidovre IF - Silkeborg IF\\python\\myenv-3.11\\Lib\\site-packages\\socceraction\\spadl\\opta.py:242: FutureWarning: Downcasting object dtype arrays on .fillna, .ffill, .bfill is deprecated and will change in a future version. Call result.infer_objects(copy=False) instead. To opt-in to the future behavior, set `pd.set_option('future.no_silent_downcasting', True)`\n",
      "  ).bfill()\n"
     ]
    },
    {
     "name": "stdout",
     "output_type": "stream",
     "text": [
      "Folder path: C:/Users/jda/Desktop/Hvidovre IF - Silkeborg IF/python/data/!Processed/AGF_HVI\n",
      "Extracted number: 2367459\n"
     ]
    },
    {
     "name": "stderr",
     "output_type": "stream",
     "text": [
      "c:\\Users\\jda\\Desktop\\Hvidovre IF - Silkeborg IF\\python\\myenv-3.11\\Lib\\site-packages\\socceraction\\spadl\\opta.py:242: FutureWarning: Downcasting object dtype arrays on .fillna, .ffill, .bfill is deprecated and will change in a future version. Call result.infer_objects(copy=False) instead. To opt-in to the future behavior, set `pd.set_option('future.no_silent_downcasting', True)`\n",
      "  ).bfill()\n"
     ]
    },
    {
     "name": "stdout",
     "output_type": "stream",
     "text": [
      "Folder path: C:/Users/jda/Desktop/Hvidovre IF - Silkeborg IF/python/data/!Processed/AGF_LBK\n",
      "Extracted number: 2367365\n"
     ]
    },
    {
     "name": "stderr",
     "output_type": "stream",
     "text": [
      "c:\\Users\\jda\\Desktop\\Hvidovre IF - Silkeborg IF\\python\\myenv-3.11\\Lib\\site-packages\\socceraction\\spadl\\opta.py:242: FutureWarning: Downcasting object dtype arrays on .fillna, .ffill, .bfill is deprecated and will change in a future version. Call result.infer_objects(copy=False) instead. To opt-in to the future behavior, set `pd.set_option('future.no_silent_downcasting', True)`\n",
      "  ).bfill()\n"
     ]
    },
    {
     "name": "stdout",
     "output_type": "stream",
     "text": [
      "Folder path: C:/Users/jda/Desktop/Hvidovre IF - Silkeborg IF/python/data/!Processed/AGF_OB\n",
      "Extracted number: 2367447\n"
     ]
    },
    {
     "name": "stderr",
     "output_type": "stream",
     "text": [
      "c:\\Users\\jda\\Desktop\\Hvidovre IF - Silkeborg IF\\python\\myenv-3.11\\Lib\\site-packages\\socceraction\\spadl\\opta.py:242: FutureWarning: Downcasting object dtype arrays on .fillna, .ffill, .bfill is deprecated and will change in a future version. Call result.infer_objects(copy=False) instead. To opt-in to the future behavior, set `pd.set_option('future.no_silent_downcasting', True)`\n",
      "  ).bfill()\n"
     ]
    },
    {
     "name": "stdout",
     "output_type": "stream",
     "text": [
      "Folder path: C:/Users/jda/Desktop/Hvidovre IF - Silkeborg IF/python/data/!Processed/AGF_RFC\n",
      "Extracted number: 2367405\n"
     ]
    },
    {
     "name": "stderr",
     "output_type": "stream",
     "text": [
      "c:\\Users\\jda\\Desktop\\Hvidovre IF - Silkeborg IF\\python\\myenv-3.11\\Lib\\site-packages\\socceraction\\spadl\\opta.py:242: FutureWarning: Downcasting object dtype arrays on .fillna, .ffill, .bfill is deprecated and will change in a future version. Call result.infer_objects(copy=False) instead. To opt-in to the future behavior, set `pd.set_option('future.no_silent_downcasting', True)`\n",
      "  ).bfill()\n"
     ]
    },
    {
     "name": "stdout",
     "output_type": "stream",
     "text": [
      "Folder path: C:/Users/jda/Desktop/Hvidovre IF - Silkeborg IF/python/data/!Processed/AGF_SIF\n",
      "Extracted number: 2367355\n"
     ]
    },
    {
     "name": "stderr",
     "output_type": "stream",
     "text": [
      "c:\\Users\\jda\\Desktop\\Hvidovre IF - Silkeborg IF\\python\\myenv-3.11\\Lib\\site-packages\\socceraction\\spadl\\opta.py:242: FutureWarning: Downcasting object dtype arrays on .fillna, .ffill, .bfill is deprecated and will change in a future version. Call result.infer_objects(copy=False) instead. To opt-in to the future behavior, set `pd.set_option('future.no_silent_downcasting', True)`\n",
      "  ).bfill()\n"
     ]
    },
    {
     "name": "stdout",
     "output_type": "stream",
     "text": [
      "Folder path: C:/Users/jda/Desktop/Hvidovre IF - Silkeborg IF/python/data/!Processed/AGF_VB\n",
      "Extracted number: 2367335\n"
     ]
    },
    {
     "name": "stderr",
     "output_type": "stream",
     "text": [
      "c:\\Users\\jda\\Desktop\\Hvidovre IF - Silkeborg IF\\python\\myenv-3.11\\Lib\\site-packages\\socceraction\\spadl\\opta.py:242: FutureWarning: Downcasting object dtype arrays on .fillna, .ffill, .bfill is deprecated and will change in a future version. Call result.infer_objects(copy=False) instead. To opt-in to the future behavior, set `pd.set_option('future.no_silent_downcasting', True)`\n",
      "  ).bfill()\n"
     ]
    },
    {
     "name": "stdout",
     "output_type": "stream",
     "text": [
      "Folder path: C:/Users/jda/Desktop/Hvidovre IF - Silkeborg IF/python/data/!Processed/AGF_VFF\n",
      "Extracted number: 2367417\n"
     ]
    },
    {
     "name": "stderr",
     "output_type": "stream",
     "text": [
      "c:\\Users\\jda\\Desktop\\Hvidovre IF - Silkeborg IF\\python\\myenv-3.11\\Lib\\site-packages\\socceraction\\spadl\\opta.py:242: FutureWarning: Downcasting object dtype arrays on .fillna, .ffill, .bfill is deprecated and will change in a future version. Call result.infer_objects(copy=False) instead. To opt-in to the future behavior, set `pd.set_option('future.no_silent_downcasting', True)`\n",
      "  ).bfill()\n"
     ]
    },
    {
     "name": "stdout",
     "output_type": "stream",
     "text": [
      "Folder path: C:/Users/jda/Desktop/Hvidovre IF - Silkeborg IF/python/data/!Processed/BIF_AGF\n",
      "Extracted number: 2367414\n"
     ]
    },
    {
     "name": "stderr",
     "output_type": "stream",
     "text": [
      "c:\\Users\\jda\\Desktop\\Hvidovre IF - Silkeborg IF\\python\\myenv-3.11\\Lib\\site-packages\\socceraction\\spadl\\opta.py:242: FutureWarning: Downcasting object dtype arrays on .fillna, .ffill, .bfill is deprecated and will change in a future version. Call result.infer_objects(copy=False) instead. To opt-in to the future behavior, set `pd.set_option('future.no_silent_downcasting', True)`\n",
      "  ).bfill()\n"
     ]
    },
    {
     "name": "stdout",
     "output_type": "stream",
     "text": [
      "Folder path: C:/Users/jda/Desktop/Hvidovre IF - Silkeborg IF/python/data/!Processed/BIF_FCK\n",
      "Extracted number: 2367381\n"
     ]
    },
    {
     "name": "stderr",
     "output_type": "stream",
     "text": [
      "c:\\Users\\jda\\Desktop\\Hvidovre IF - Silkeborg IF\\python\\myenv-3.11\\Lib\\site-packages\\socceraction\\spadl\\opta.py:242: FutureWarning: Downcasting object dtype arrays on .fillna, .ffill, .bfill is deprecated and will change in a future version. Call result.infer_objects(copy=False) instead. To opt-in to the future behavior, set `pd.set_option('future.no_silent_downcasting', True)`\n",
      "  ).bfill()\n"
     ]
    },
    {
     "name": "stdout",
     "output_type": "stream",
     "text": [
      "Folder path: C:/Users/jda/Desktop/Hvidovre IF - Silkeborg IF/python/data/!Processed/BIF_FCM\n",
      "Extracted number: 2367435\n"
     ]
    },
    {
     "name": "stderr",
     "output_type": "stream",
     "text": [
      "c:\\Users\\jda\\Desktop\\Hvidovre IF - Silkeborg IF\\python\\myenv-3.11\\Lib\\site-packages\\socceraction\\spadl\\opta.py:242: FutureWarning: Downcasting object dtype arrays on .fillna, .ffill, .bfill is deprecated and will change in a future version. Call result.infer_objects(copy=False) instead. To opt-in to the future behavior, set `pd.set_option('future.no_silent_downcasting', True)`\n",
      "  ).bfill()\n"
     ]
    },
    {
     "name": "stdout",
     "output_type": "stream",
     "text": [
      "Folder path: C:/Users/jda/Desktop/Hvidovre IF - Silkeborg IF/python/data/!Processed/BIF_FCN\n",
      "Extracted number: 2367406\n"
     ]
    },
    {
     "name": "stderr",
     "output_type": "stream",
     "text": [
      "c:\\Users\\jda\\Desktop\\Hvidovre IF - Silkeborg IF\\python\\myenv-3.11\\Lib\\site-packages\\socceraction\\spadl\\opta.py:242: FutureWarning: Downcasting object dtype arrays on .fillna, .ffill, .bfill is deprecated and will change in a future version. Call result.infer_objects(copy=False) instead. To opt-in to the future behavior, set `pd.set_option('future.no_silent_downcasting', True)`\n",
      "  ).bfill()\n"
     ]
    },
    {
     "name": "stdout",
     "output_type": "stream",
     "text": [
      "Folder path: C:/Users/jda/Desktop/Hvidovre IF - Silkeborg IF/python/data/!Processed/BIF_HVI\n",
      "Extracted number: 2367429\n"
     ]
    },
    {
     "name": "stderr",
     "output_type": "stream",
     "text": [
      "c:\\Users\\jda\\Desktop\\Hvidovre IF - Silkeborg IF\\python\\myenv-3.11\\Lib\\site-packages\\socceraction\\spadl\\opta.py:242: FutureWarning: Downcasting object dtype arrays on .fillna, .ffill, .bfill is deprecated and will change in a future version. Call result.infer_objects(copy=False) instead. To opt-in to the future behavior, set `pd.set_option('future.no_silent_downcasting', True)`\n",
      "  ).bfill()\n"
     ]
    },
    {
     "name": "stdout",
     "output_type": "stream",
     "text": [
      "Folder path: C:/Users/jda/Desktop/Hvidovre IF - Silkeborg IF/python/data/!Processed/BIF_LBK\n",
      "Extracted number: 2367354\n"
     ]
    },
    {
     "name": "stderr",
     "output_type": "stream",
     "text": [
      "c:\\Users\\jda\\Desktop\\Hvidovre IF - Silkeborg IF\\python\\myenv-3.11\\Lib\\site-packages\\socceraction\\spadl\\opta.py:242: FutureWarning: Downcasting object dtype arrays on .fillna, .ffill, .bfill is deprecated and will change in a future version. Call result.infer_objects(copy=False) instead. To opt-in to the future behavior, set `pd.set_option('future.no_silent_downcasting', True)`\n",
      "  ).bfill()\n"
     ]
    },
    {
     "name": "stdout",
     "output_type": "stream",
     "text": [
      "Folder path: C:/Users/jda/Desktop/Hvidovre IF - Silkeborg IF/python/data/!Processed/BIF_OB\n",
      "Extracted number: 2367343\n"
     ]
    },
    {
     "name": "stderr",
     "output_type": "stream",
     "text": [
      "c:\\Users\\jda\\Desktop\\Hvidovre IF - Silkeborg IF\\python\\myenv-3.11\\Lib\\site-packages\\socceraction\\spadl\\opta.py:242: FutureWarning: Downcasting object dtype arrays on .fillna, .ffill, .bfill is deprecated and will change in a future version. Call result.infer_objects(copy=False) instead. To opt-in to the future behavior, set `pd.set_option('future.no_silent_downcasting', True)`\n",
      "  ).bfill()\n"
     ]
    },
    {
     "name": "stdout",
     "output_type": "stream",
     "text": [
      "Folder path: C:/Users/jda/Desktop/Hvidovre IF - Silkeborg IF/python/data/!Processed/BIF_RFC\n",
      "Extracted number: 2367372\n"
     ]
    },
    {
     "name": "stderr",
     "output_type": "stream",
     "text": [
      "c:\\Users\\jda\\Desktop\\Hvidovre IF - Silkeborg IF\\python\\myenv-3.11\\Lib\\site-packages\\socceraction\\spadl\\opta.py:242: FutureWarning: Downcasting object dtype arrays on .fillna, .ffill, .bfill is deprecated and will change in a future version. Call result.infer_objects(copy=False) instead. To opt-in to the future behavior, set `pd.set_option('future.no_silent_downcasting', True)`\n",
      "  ).bfill()\n"
     ]
    },
    {
     "name": "stdout",
     "output_type": "stream",
     "text": [
      "Folder path: C:/Users/jda/Desktop/Hvidovre IF - Silkeborg IF/python/data/!Processed/BIF_SIF\n",
      "Extracted number: 2367460\n"
     ]
    },
    {
     "name": "stderr",
     "output_type": "stream",
     "text": [
      "c:\\Users\\jda\\Desktop\\Hvidovre IF - Silkeborg IF\\python\\myenv-3.11\\Lib\\site-packages\\socceraction\\spadl\\opta.py:242: FutureWarning: Downcasting object dtype arrays on .fillna, .ffill, .bfill is deprecated and will change in a future version. Call result.infer_objects(copy=False) instead. To opt-in to the future behavior, set `pd.set_option('future.no_silent_downcasting', True)`\n",
      "  ).bfill()\n"
     ]
    },
    {
     "name": "stdout",
     "output_type": "stream",
     "text": [
      "Folder path: C:/Users/jda/Desktop/Hvidovre IF - Silkeborg IF/python/data/!Processed/BIF_VB\n",
      "Extracted number: 2367448\n"
     ]
    },
    {
     "name": "stderr",
     "output_type": "stream",
     "text": [
      "c:\\Users\\jda\\Desktop\\Hvidovre IF - Silkeborg IF\\python\\myenv-3.11\\Lib\\site-packages\\socceraction\\spadl\\opta.py:242: FutureWarning: Downcasting object dtype arrays on .fillna, .ffill, .bfill is deprecated and will change in a future version. Call result.infer_objects(copy=False) instead. To opt-in to the future behavior, set `pd.set_option('future.no_silent_downcasting', True)`\n",
      "  ).bfill()\n"
     ]
    },
    {
     "name": "stdout",
     "output_type": "stream",
     "text": [
      "Folder path: C:/Users/jda/Desktop/Hvidovre IF - Silkeborg IF/python/data/!Processed/BIF_VFF\n",
      "Extracted number: 2367394\n"
     ]
    },
    {
     "name": "stderr",
     "output_type": "stream",
     "text": [
      "c:\\Users\\jda\\Desktop\\Hvidovre IF - Silkeborg IF\\python\\myenv-3.11\\Lib\\site-packages\\socceraction\\spadl\\opta.py:242: FutureWarning: Downcasting object dtype arrays on .fillna, .ffill, .bfill is deprecated and will change in a future version. Call result.infer_objects(copy=False) instead. To opt-in to the future behavior, set `pd.set_option('future.no_silent_downcasting', True)`\n",
      "  ).bfill()\n"
     ]
    },
    {
     "name": "stdout",
     "output_type": "stream",
     "text": [
      "Folder path: C:/Users/jda/Desktop/Hvidovre IF - Silkeborg IF/python/data/!Processed/FCK_AGF\n",
      "Extracted number: 2367433\n"
     ]
    },
    {
     "name": "stderr",
     "output_type": "stream",
     "text": [
      "c:\\Users\\jda\\Desktop\\Hvidovre IF - Silkeborg IF\\python\\myenv-3.11\\Lib\\site-packages\\socceraction\\spadl\\opta.py:242: FutureWarning: Downcasting object dtype arrays on .fillna, .ffill, .bfill is deprecated and will change in a future version. Call result.infer_objects(copy=False) instead. To opt-in to the future behavior, set `pd.set_option('future.no_silent_downcasting', True)`\n",
      "  ).bfill()\n"
     ]
    },
    {
     "name": "stdout",
     "output_type": "stream",
     "text": [
      "Folder path: C:/Users/jda/Desktop/Hvidovre IF - Silkeborg IF/python/data/!Processed/FCK_BIF\n",
      "Extracted number: 2367419\n"
     ]
    },
    {
     "name": "stderr",
     "output_type": "stream",
     "text": [
      "c:\\Users\\jda\\Desktop\\Hvidovre IF - Silkeborg IF\\python\\myenv-3.11\\Lib\\site-packages\\socceraction\\spadl\\opta.py:242: FutureWarning: Downcasting object dtype arrays on .fillna, .ffill, .bfill is deprecated and will change in a future version. Call result.infer_objects(copy=False) instead. To opt-in to the future behavior, set `pd.set_option('future.no_silent_downcasting', True)`\n",
      "  ).bfill()\n"
     ]
    },
    {
     "name": "stdout",
     "output_type": "stream",
     "text": [
      "Folder path: C:/Users/jda/Desktop/Hvidovre IF - Silkeborg IF/python/data/!Processed/FCK_FCM\n",
      "Extracted number: 2367387\n"
     ]
    },
    {
     "name": "stderr",
     "output_type": "stream",
     "text": [
      "c:\\Users\\jda\\Desktop\\Hvidovre IF - Silkeborg IF\\python\\myenv-3.11\\Lib\\site-packages\\socceraction\\spadl\\opta.py:242: FutureWarning: Downcasting object dtype arrays on .fillna, .ffill, .bfill is deprecated and will change in a future version. Call result.infer_objects(copy=False) instead. To opt-in to the future behavior, set `pd.set_option('future.no_silent_downcasting', True)`\n",
      "  ).bfill()\n"
     ]
    },
    {
     "name": "stdout",
     "output_type": "stream",
     "text": [
      "Folder path: C:/Users/jda/Desktop/Hvidovre IF - Silkeborg IF/python/data/!Processed/FCK_FCN\n",
      "Extracted number: 2367442\n"
     ]
    },
    {
     "name": "stderr",
     "output_type": "stream",
     "text": [
      "c:\\Users\\jda\\Desktop\\Hvidovre IF - Silkeborg IF\\python\\myenv-3.11\\Lib\\site-packages\\socceraction\\spadl\\opta.py:242: FutureWarning: Downcasting object dtype arrays on .fillna, .ffill, .bfill is deprecated and will change in a future version. Call result.infer_objects(copy=False) instead. To opt-in to the future behavior, set `pd.set_option('future.no_silent_downcasting', True)`\n",
      "  ).bfill()\n"
     ]
    },
    {
     "name": "stdout",
     "output_type": "stream",
     "text": [
      "Folder path: C:/Users/jda/Desktop/Hvidovre IF - Silkeborg IF/python/data/!Processed/FCK_HVI\n",
      "Extracted number: 2367408\n"
     ]
    },
    {
     "name": "stderr",
     "output_type": "stream",
     "text": [
      "c:\\Users\\jda\\Desktop\\Hvidovre IF - Silkeborg IF\\python\\myenv-3.11\\Lib\\site-packages\\socceraction\\spadl\\opta.py:242: FutureWarning: Downcasting object dtype arrays on .fillna, .ffill, .bfill is deprecated and will change in a future version. Call result.infer_objects(copy=False) instead. To opt-in to the future behavior, set `pd.set_option('future.no_silent_downcasting', True)`\n",
      "  ).bfill()\n"
     ]
    },
    {
     "name": "stdout",
     "output_type": "stream",
     "text": [
      "Folder path: C:/Users/jda/Desktop/Hvidovre IF - Silkeborg IF/python/data/!Processed/FCK_LBK\n",
      "Extracted number: 2367453\n"
     ]
    },
    {
     "name": "stderr",
     "output_type": "stream",
     "text": [
      "c:\\Users\\jda\\Desktop\\Hvidovre IF - Silkeborg IF\\python\\myenv-3.11\\Lib\\site-packages\\socceraction\\spadl\\opta.py:242: FutureWarning: Downcasting object dtype arrays on .fillna, .ffill, .bfill is deprecated and will change in a future version. Call result.infer_objects(copy=False) instead. To opt-in to the future behavior, set `pd.set_option('future.no_silent_downcasting', True)`\n",
      "  ).bfill()\n"
     ]
    },
    {
     "name": "stdout",
     "output_type": "stream",
     "text": [
      "Folder path: C:/Users/jda/Desktop/Hvidovre IF - Silkeborg IF/python/data/!Processed/FCK_OB\n",
      "Extracted number: 2367351\n"
     ]
    },
    {
     "name": "stderr",
     "output_type": "stream",
     "text": [
      "c:\\Users\\jda\\Desktop\\Hvidovre IF - Silkeborg IF\\python\\myenv-3.11\\Lib\\site-packages\\socceraction\\spadl\\opta.py:242: FutureWarning: Downcasting object dtype arrays on .fillna, .ffill, .bfill is deprecated and will change in a future version. Call result.infer_objects(copy=False) instead. To opt-in to the future behavior, set `pd.set_option('future.no_silent_downcasting', True)`\n",
      "  ).bfill()\n"
     ]
    },
    {
     "name": "stdout",
     "output_type": "stream",
     "text": [
      "Folder path: C:/Users/jda/Desktop/Hvidovre IF - Silkeborg IF/python/data/!Processed/FCK_RFC\n",
      "Extracted number: 2367345\n"
     ]
    },
    {
     "name": "stderr",
     "output_type": "stream",
     "text": [
      "c:\\Users\\jda\\Desktop\\Hvidovre IF - Silkeborg IF\\python\\myenv-3.11\\Lib\\site-packages\\socceraction\\spadl\\opta.py:242: FutureWarning: Downcasting object dtype arrays on .fillna, .ffill, .bfill is deprecated and will change in a future version. Call result.infer_objects(copy=False) instead. To opt-in to the future behavior, set `pd.set_option('future.no_silent_downcasting', True)`\n",
      "  ).bfill()\n"
     ]
    },
    {
     "name": "stdout",
     "output_type": "stream",
     "text": [
      "Folder path: C:/Users/jda/Desktop/Hvidovre IF - Silkeborg IF/python/data/!Processed/FCK_SIF\n",
      "Extracted number: 2367364\n"
     ]
    },
    {
     "name": "stderr",
     "output_type": "stream",
     "text": [
      "c:\\Users\\jda\\Desktop\\Hvidovre IF - Silkeborg IF\\python\\myenv-3.11\\Lib\\site-packages\\socceraction\\spadl\\opta.py:242: FutureWarning: Downcasting object dtype arrays on .fillna, .ffill, .bfill is deprecated and will change in a future version. Call result.infer_objects(copy=False) instead. To opt-in to the future behavior, set `pd.set_option('future.no_silent_downcasting', True)`\n",
      "  ).bfill()\n"
     ]
    },
    {
     "name": "stdout",
     "output_type": "stream",
     "text": [
      "Folder path: C:/Users/jda/Desktop/Hvidovre IF - Silkeborg IF/python/data/!Processed/FCK_VB\n",
      "Extracted number: 2367399\n"
     ]
    },
    {
     "name": "stderr",
     "output_type": "stream",
     "text": [
      "c:\\Users\\jda\\Desktop\\Hvidovre IF - Silkeborg IF\\python\\myenv-3.11\\Lib\\site-packages\\socceraction\\spadl\\opta.py:242: FutureWarning: Downcasting object dtype arrays on .fillna, .ffill, .bfill is deprecated and will change in a future version. Call result.infer_objects(copy=False) instead. To opt-in to the future behavior, set `pd.set_option('future.no_silent_downcasting', True)`\n",
      "  ).bfill()\n"
     ]
    },
    {
     "name": "stdout",
     "output_type": "stream",
     "text": [
      "Folder path: C:/Users/jda/Desktop/Hvidovre IF - Silkeborg IF/python/data/!Processed/FCK_VFF\n",
      "Extracted number: 2367373\n"
     ]
    },
    {
     "name": "stderr",
     "output_type": "stream",
     "text": [
      "c:\\Users\\jda\\Desktop\\Hvidovre IF - Silkeborg IF\\python\\myenv-3.11\\Lib\\site-packages\\socceraction\\spadl\\opta.py:242: FutureWarning: Downcasting object dtype arrays on .fillna, .ffill, .bfill is deprecated and will change in a future version. Call result.infer_objects(copy=False) instead. To opt-in to the future behavior, set `pd.set_option('future.no_silent_downcasting', True)`\n",
      "  ).bfill()\n"
     ]
    },
    {
     "name": "stdout",
     "output_type": "stream",
     "text": [
      "Folder path: C:/Users/jda/Desktop/Hvidovre IF - Silkeborg IF/python/data/!Processed/FCM_AGF\n",
      "Extracted number: 2367374\n"
     ]
    },
    {
     "name": "stderr",
     "output_type": "stream",
     "text": [
      "c:\\Users\\jda\\Desktop\\Hvidovre IF - Silkeborg IF\\python\\myenv-3.11\\Lib\\site-packages\\socceraction\\spadl\\opta.py:242: FutureWarning: Downcasting object dtype arrays on .fillna, .ffill, .bfill is deprecated and will change in a future version. Call result.infer_objects(copy=False) instead. To opt-in to the future behavior, set `pd.set_option('future.no_silent_downcasting', True)`\n",
      "  ).bfill()\n"
     ]
    },
    {
     "name": "stdout",
     "output_type": "stream",
     "text": [
      "Folder path: C:/Users/jda/Desktop/Hvidovre IF - Silkeborg IF/python/data/!Processed/FCM_BIF\n",
      "Extracted number: 2367360\n"
     ]
    },
    {
     "name": "stderr",
     "output_type": "stream",
     "text": [
      "c:\\Users\\jda\\Desktop\\Hvidovre IF - Silkeborg IF\\python\\myenv-3.11\\Lib\\site-packages\\socceraction\\spadl\\opta.py:242: FutureWarning: Downcasting object dtype arrays on .fillna, .ffill, .bfill is deprecated and will change in a future version. Call result.infer_objects(copy=False) instead. To opt-in to the future behavior, set `pd.set_option('future.no_silent_downcasting', True)`\n",
      "  ).bfill()\n"
     ]
    },
    {
     "name": "stdout",
     "output_type": "stream",
     "text": [
      "Folder path: C:/Users/jda/Desktop/Hvidovre IF - Silkeborg IF/python/data/!Processed/FCM_FCK\n",
      "Extracted number: 2367450\n"
     ]
    },
    {
     "name": "stderr",
     "output_type": "stream",
     "text": [
      "c:\\Users\\jda\\Desktop\\Hvidovre IF - Silkeborg IF\\python\\myenv-3.11\\Lib\\site-packages\\socceraction\\spadl\\opta.py:242: FutureWarning: Downcasting object dtype arrays on .fillna, .ffill, .bfill is deprecated and will change in a future version. Call result.infer_objects(copy=False) instead. To opt-in to the future behavior, set `pd.set_option('future.no_silent_downcasting', True)`\n",
      "  ).bfill()\n"
     ]
    },
    {
     "name": "stdout",
     "output_type": "stream",
     "text": [
      "Folder path: C:/Users/jda/Desktop/Hvidovre IF - Silkeborg IF/python/data/!Processed/FCM_FCN\n",
      "Extracted number: 2367418\n"
     ]
    },
    {
     "name": "stderr",
     "output_type": "stream",
     "text": [
      "c:\\Users\\jda\\Desktop\\Hvidovre IF - Silkeborg IF\\python\\myenv-3.11\\Lib\\site-packages\\socceraction\\spadl\\opta.py:242: FutureWarning: Downcasting object dtype arrays on .fillna, .ffill, .bfill is deprecated and will change in a future version. Call result.infer_objects(copy=False) instead. To opt-in to the future behavior, set `pd.set_option('future.no_silent_downcasting', True)`\n",
      "  ).bfill()\n"
     ]
    },
    {
     "name": "stdout",
     "output_type": "stream",
     "text": [
      "Folder path: C:/Users/jda/Desktop/Hvidovre IF - Silkeborg IF/python/data/!Processed/FCM_HVI\n",
      "Extracted number: 2367333\n"
     ]
    },
    {
     "name": "stderr",
     "output_type": "stream",
     "text": [
      "c:\\Users\\jda\\Desktop\\Hvidovre IF - Silkeborg IF\\python\\myenv-3.11\\Lib\\site-packages\\socceraction\\spadl\\opta.py:242: FutureWarning: Downcasting object dtype arrays on .fillna, .ffill, .bfill is deprecated and will change in a future version. Call result.infer_objects(copy=False) instead. To opt-in to the future behavior, set `pd.set_option('future.no_silent_downcasting', True)`\n",
      "  ).bfill()\n"
     ]
    },
    {
     "name": "stdout",
     "output_type": "stream",
     "text": [
      "Folder path: C:/Users/jda/Desktop/Hvidovre IF - Silkeborg IF/python/data/!Processed/FCM_LBK\n",
      "Extracted number: 2367409\n"
     ]
    },
    {
     "name": "stderr",
     "output_type": "stream",
     "text": [
      "c:\\Users\\jda\\Desktop\\Hvidovre IF - Silkeborg IF\\python\\myenv-3.11\\Lib\\site-packages\\socceraction\\spadl\\opta.py:242: FutureWarning: Downcasting object dtype arrays on .fillna, .ffill, .bfill is deprecated and will change in a future version. Call result.infer_objects(copy=False) instead. To opt-in to the future behavior, set `pd.set_option('future.no_silent_downcasting', True)`\n",
      "  ).bfill()\n"
     ]
    },
    {
     "name": "stdout",
     "output_type": "stream",
     "text": [
      "Folder path: C:/Users/jda/Desktop/Hvidovre IF - Silkeborg IF/python/data/!Processed/FCM_OB\n",
      "Extracted number: 2367382\n"
     ]
    },
    {
     "name": "stderr",
     "output_type": "stream",
     "text": [
      "c:\\Users\\jda\\Desktop\\Hvidovre IF - Silkeborg IF\\python\\myenv-3.11\\Lib\\site-packages\\socceraction\\spadl\\opta.py:242: FutureWarning: Downcasting object dtype arrays on .fillna, .ffill, .bfill is deprecated and will change in a future version. Call result.infer_objects(copy=False) instead. To opt-in to the future behavior, set `pd.set_option('future.no_silent_downcasting', True)`\n",
      "  ).bfill()\n"
     ]
    },
    {
     "name": "stdout",
     "output_type": "stream",
     "text": [
      "Folder path: C:/Users/jda/Desktop/Hvidovre IF - Silkeborg IF/python/data/!Processed/FCM_RFC\n",
      "Extracted number: 2367395\n"
     ]
    },
    {
     "name": "stderr",
     "output_type": "stream",
     "text": [
      "c:\\Users\\jda\\Desktop\\Hvidovre IF - Silkeborg IF\\python\\myenv-3.11\\Lib\\site-packages\\socceraction\\spadl\\opta.py:242: FutureWarning: Downcasting object dtype arrays on .fillna, .ffill, .bfill is deprecated and will change in a future version. Call result.infer_objects(copy=False) instead. To opt-in to the future behavior, set `pd.set_option('future.no_silent_downcasting', True)`\n",
      "  ).bfill()\n"
     ]
    },
    {
     "name": "stdout",
     "output_type": "stream",
     "text": [
      "Folder path: C:/Users/jda/Desktop/Hvidovre IF - Silkeborg IF/python/data/!Processed/FCM_SIF\n",
      "Extracted number: 2367341\n"
     ]
    },
    {
     "name": "stderr",
     "output_type": "stream",
     "text": [
      "c:\\Users\\jda\\Desktop\\Hvidovre IF - Silkeborg IF\\python\\myenv-3.11\\Lib\\site-packages\\socceraction\\spadl\\opta.py:242: FutureWarning: Downcasting object dtype arrays on .fillna, .ffill, .bfill is deprecated and will change in a future version. Call result.infer_objects(copy=False) instead. To opt-in to the future behavior, set `pd.set_option('future.no_silent_downcasting', True)`\n",
      "  ).bfill()\n"
     ]
    },
    {
     "name": "stdout",
     "output_type": "stream",
     "text": [
      "Folder path: C:/Users/jda/Desktop/Hvidovre IF - Silkeborg IF/python/data/!Processed/FCM_VB\n",
      "Extracted number: 2367461\n"
     ]
    },
    {
     "name": "stderr",
     "output_type": "stream",
     "text": [
      "c:\\Users\\jda\\Desktop\\Hvidovre IF - Silkeborg IF\\python\\myenv-3.11\\Lib\\site-packages\\socceraction\\spadl\\opta.py:242: FutureWarning: Downcasting object dtype arrays on .fillna, .ffill, .bfill is deprecated and will change in a future version. Call result.infer_objects(copy=False) instead. To opt-in to the future behavior, set `pd.set_option('future.no_silent_downcasting', True)`\n",
      "  ).bfill()\n"
     ]
    },
    {
     "name": "stdout",
     "output_type": "stream",
     "text": [
      "Folder path: C:/Users/jda/Desktop/Hvidovre IF - Silkeborg IF/python/data/!Processed/FCM_VFF\n",
      "Extracted number: 2367430\n"
     ]
    },
    {
     "name": "stderr",
     "output_type": "stream",
     "text": [
      "c:\\Users\\jda\\Desktop\\Hvidovre IF - Silkeborg IF\\python\\myenv-3.11\\Lib\\site-packages\\socceraction\\spadl\\opta.py:242: FutureWarning: Downcasting object dtype arrays on .fillna, .ffill, .bfill is deprecated and will change in a future version. Call result.infer_objects(copy=False) instead. To opt-in to the future behavior, set `pd.set_option('future.no_silent_downcasting', True)`\n",
      "  ).bfill()\n"
     ]
    },
    {
     "name": "stdout",
     "output_type": "stream",
     "text": [
      "Folder path: C:/Users/jda/Desktop/Hvidovre IF - Silkeborg IF/python/data/!Processed/FCN_AGF\n",
      "Extracted number: 2367424\n"
     ]
    },
    {
     "name": "stderr",
     "output_type": "stream",
     "text": [
      "c:\\Users\\jda\\Desktop\\Hvidovre IF - Silkeborg IF\\python\\myenv-3.11\\Lib\\site-packages\\socceraction\\spadl\\opta.py:242: FutureWarning: Downcasting object dtype arrays on .fillna, .ffill, .bfill is deprecated and will change in a future version. Call result.infer_objects(copy=False) instead. To opt-in to the future behavior, set `pd.set_option('future.no_silent_downcasting', True)`\n",
      "  ).bfill()\n"
     ]
    },
    {
     "name": "stdout",
     "output_type": "stream",
     "text": [
      "Folder path: C:/Users/jda/Desktop/Hvidovre IF - Silkeborg IF/python/data/!Processed/FCN_BIF\n",
      "Extracted number: 2367349\n"
     ]
    },
    {
     "name": "stderr",
     "output_type": "stream",
     "text": [
      "c:\\Users\\jda\\Desktop\\Hvidovre IF - Silkeborg IF\\python\\myenv-3.11\\Lib\\site-packages\\socceraction\\spadl\\opta.py:242: FutureWarning: Downcasting object dtype arrays on .fillna, .ffill, .bfill is deprecated and will change in a future version. Call result.infer_objects(copy=False) instead. To opt-in to the future behavior, set `pd.set_option('future.no_silent_downcasting', True)`\n",
      "  ).bfill()\n"
     ]
    },
    {
     "name": "stdout",
     "output_type": "stream",
     "text": [
      "Folder path: C:/Users/jda/Desktop/Hvidovre IF - Silkeborg IF/python/data/!Processed/FCN_FCK\n",
      "Extracted number: 2367378\n"
     ]
    },
    {
     "name": "stderr",
     "output_type": "stream",
     "text": [
      "c:\\Users\\jda\\Desktop\\Hvidovre IF - Silkeborg IF\\python\\myenv-3.11\\Lib\\site-packages\\socceraction\\spadl\\opta.py:242: FutureWarning: Downcasting object dtype arrays on .fillna, .ffill, .bfill is deprecated and will change in a future version. Call result.infer_objects(copy=False) instead. To opt-in to the future behavior, set `pd.set_option('future.no_silent_downcasting', True)`\n",
      "  ).bfill()\n"
     ]
    },
    {
     "name": "stdout",
     "output_type": "stream",
     "text": [
      "Folder path: C:/Users/jda/Desktop/Hvidovre IF - Silkeborg IF/python/data/!Processed/FCN_FCM\n",
      "Extracted number: 2367367\n"
     ]
    },
    {
     "name": "stderr",
     "output_type": "stream",
     "text": [
      "c:\\Users\\jda\\Desktop\\Hvidovre IF - Silkeborg IF\\python\\myenv-3.11\\Lib\\site-packages\\socceraction\\spadl\\opta.py:242: FutureWarning: Downcasting object dtype arrays on .fillna, .ffill, .bfill is deprecated and will change in a future version. Call result.infer_objects(copy=False) instead. To opt-in to the future behavior, set `pd.set_option('future.no_silent_downcasting', True)`\n",
      "  ).bfill()\n"
     ]
    },
    {
     "name": "stdout",
     "output_type": "stream",
     "text": [
      "Folder path: C:/Users/jda/Desktop/Hvidovre IF - Silkeborg IF/python/data/!Processed/FCN_HVI\n",
      "Extracted number: 2367386\n"
     ]
    },
    {
     "name": "stderr",
     "output_type": "stream",
     "text": [
      "c:\\Users\\jda\\Desktop\\Hvidovre IF - Silkeborg IF\\python\\myenv-3.11\\Lib\\site-packages\\socceraction\\spadl\\opta.py:242: FutureWarning: Downcasting object dtype arrays on .fillna, .ffill, .bfill is deprecated and will change in a future version. Call result.infer_objects(copy=False) instead. To opt-in to the future behavior, set `pd.set_option('future.no_silent_downcasting', True)`\n",
      "  ).bfill()\n"
     ]
    },
    {
     "name": "stdout",
     "output_type": "stream",
     "text": [
      "Folder path: C:/Users/jda/Desktop/Hvidovre IF - Silkeborg IF/python/data/!Processed/FCN_LBK\n",
      "Extracted number: 2367439\n"
     ]
    },
    {
     "name": "stderr",
     "output_type": "stream",
     "text": [
      "c:\\Users\\jda\\Desktop\\Hvidovre IF - Silkeborg IF\\python\\myenv-3.11\\Lib\\site-packages\\socceraction\\spadl\\opta.py:242: FutureWarning: Downcasting object dtype arrays on .fillna, .ffill, .bfill is deprecated and will change in a future version. Call result.infer_objects(copy=False) instead. To opt-in to the future behavior, set `pd.set_option('future.no_silent_downcasting', True)`\n",
      "  ).bfill()\n"
     ]
    },
    {
     "name": "stdout",
     "output_type": "stream",
     "text": [
      "Folder path: C:/Users/jda/Desktop/Hvidovre IF - Silkeborg IF/python/data/!Processed/FCN_OB\n",
      "Extracted number: 2367396\n"
     ]
    },
    {
     "name": "stderr",
     "output_type": "stream",
     "text": [
      "c:\\Users\\jda\\Desktop\\Hvidovre IF - Silkeborg IF\\python\\myenv-3.11\\Lib\\site-packages\\socceraction\\spadl\\opta.py:242: FutureWarning: Downcasting object dtype arrays on .fillna, .ffill, .bfill is deprecated and will change in a future version. Call result.infer_objects(copy=False) instead. To opt-in to the future behavior, set `pd.set_option('future.no_silent_downcasting', True)`\n",
      "  ).bfill()\n"
     ]
    },
    {
     "name": "stdout",
     "output_type": "stream",
     "text": [
      "Folder path: C:/Users/jda/Desktop/Hvidovre IF - Silkeborg IF/python/data/!Processed/FCN_RFC\n",
      "Extracted number: 2367462\n"
     ]
    },
    {
     "name": "stderr",
     "output_type": "stream",
     "text": [
      "c:\\Users\\jda\\Desktop\\Hvidovre IF - Silkeborg IF\\python\\myenv-3.11\\Lib\\site-packages\\socceraction\\spadl\\opta.py:242: FutureWarning: Downcasting object dtype arrays on .fillna, .ffill, .bfill is deprecated and will change in a future version. Call result.infer_objects(copy=False) instead. To opt-in to the future behavior, set `pd.set_option('future.no_silent_downcasting', True)`\n",
      "  ).bfill()\n"
     ]
    },
    {
     "name": "stdout",
     "output_type": "stream",
     "text": [
      "Folder path: C:/Users/jda/Desktop/Hvidovre IF - Silkeborg IF/python/data/!Processed/FCN_SIF\n",
      "Extracted number: 2367449\n"
     ]
    },
    {
     "name": "stderr",
     "output_type": "stream",
     "text": [
      "c:\\Users\\jda\\Desktop\\Hvidovre IF - Silkeborg IF\\python\\myenv-3.11\\Lib\\site-packages\\socceraction\\spadl\\opta.py:242: FutureWarning: Downcasting object dtype arrays on .fillna, .ffill, .bfill is deprecated and will change in a future version. Call result.infer_objects(copy=False) instead. To opt-in to the future behavior, set `pd.set_option('future.no_silent_downcasting', True)`\n",
      "  ).bfill()\n"
     ]
    },
    {
     "name": "stdout",
     "output_type": "stream",
     "text": [
      "Folder path: C:/Users/jda/Desktop/Hvidovre IF - Silkeborg IF/python/data/!Processed/FCN_VB\n",
      "Extracted number: 2367411\n"
     ]
    },
    {
     "name": "stderr",
     "output_type": "stream",
     "text": [
      "c:\\Users\\jda\\Desktop\\Hvidovre IF - Silkeborg IF\\python\\myenv-3.11\\Lib\\site-packages\\socceraction\\spadl\\opta.py:242: FutureWarning: Downcasting object dtype arrays on .fillna, .ffill, .bfill is deprecated and will change in a future version. Call result.infer_objects(copy=False) instead. To opt-in to the future behavior, set `pd.set_option('future.no_silent_downcasting', True)`\n",
      "  ).bfill()\n"
     ]
    },
    {
     "name": "stdout",
     "output_type": "stream",
     "text": [
      "Folder path: C:/Users/jda/Desktop/Hvidovre IF - Silkeborg IF/python/data/!Processed/FCN_VFF\n",
      "Extracted number: 2367338\n"
     ]
    },
    {
     "name": "stderr",
     "output_type": "stream",
     "text": [
      "c:\\Users\\jda\\Desktop\\Hvidovre IF - Silkeborg IF\\python\\myenv-3.11\\Lib\\site-packages\\socceraction\\spadl\\opta.py:242: FutureWarning: Downcasting object dtype arrays on .fillna, .ffill, .bfill is deprecated and will change in a future version. Call result.infer_objects(copy=False) instead. To opt-in to the future behavior, set `pd.set_option('future.no_silent_downcasting', True)`\n",
      "  ).bfill()\n"
     ]
    },
    {
     "name": "stdout",
     "output_type": "stream",
     "text": [
      "Folder path: C:/Users/jda/Desktop/Hvidovre IF - Silkeborg IF/python/data/!Processed/HVI_AGF\n",
      "Extracted number: 2367347\n"
     ]
    },
    {
     "name": "stderr",
     "output_type": "stream",
     "text": [
      "c:\\Users\\jda\\Desktop\\Hvidovre IF - Silkeborg IF\\python\\myenv-3.11\\Lib\\site-packages\\socceraction\\spadl\\opta.py:242: FutureWarning: Downcasting object dtype arrays on .fillna, .ffill, .bfill is deprecated and will change in a future version. Call result.infer_objects(copy=False) instead. To opt-in to the future behavior, set `pd.set_option('future.no_silent_downcasting', True)`\n",
      "  ).bfill()\n"
     ]
    },
    {
     "name": "stdout",
     "output_type": "stream",
     "text": [
      "Folder path: C:/Users/jda/Desktop/Hvidovre IF - Silkeborg IF/python/data/!Processed/HVI_BIF\n",
      "Extracted number: 2367390\n"
     ]
    },
    {
     "name": "stderr",
     "output_type": "stream",
     "text": [
      "c:\\Users\\jda\\Desktop\\Hvidovre IF - Silkeborg IF\\python\\myenv-3.11\\Lib\\site-packages\\socceraction\\spadl\\opta.py:242: FutureWarning: Downcasting object dtype arrays on .fillna, .ffill, .bfill is deprecated and will change in a future version. Call result.infer_objects(copy=False) instead. To opt-in to the future behavior, set `pd.set_option('future.no_silent_downcasting', True)`\n",
      "  ).bfill()\n"
     ]
    },
    {
     "name": "stdout",
     "output_type": "stream",
     "text": [
      "Folder path: C:/Users/jda/Desktop/Hvidovre IF - Silkeborg IF/python/data/!Processed/HVI_FCK\n",
      "Extracted number: 2367357\n"
     ]
    },
    {
     "name": "stderr",
     "output_type": "stream",
     "text": [
      "c:\\Users\\jda\\Desktop\\Hvidovre IF - Silkeborg IF\\python\\myenv-3.11\\Lib\\site-packages\\socceraction\\spadl\\opta.py:242: FutureWarning: Downcasting object dtype arrays on .fillna, .ffill, .bfill is deprecated and will change in a future version. Call result.infer_objects(copy=False) instead. To opt-in to the future behavior, set `pd.set_option('future.no_silent_downcasting', True)`\n",
      "  ).bfill()\n"
     ]
    },
    {
     "name": "stdout",
     "output_type": "stream",
     "text": [
      "Folder path: C:/Users/jda/Desktop/Hvidovre IF - Silkeborg IF/python/data/!Processed/HVI_FCM\n",
      "Extracted number: 2367412\n"
     ]
    },
    {
     "name": "stderr",
     "output_type": "stream",
     "text": [
      "c:\\Users\\jda\\Desktop\\Hvidovre IF - Silkeborg IF\\python\\myenv-3.11\\Lib\\site-packages\\socceraction\\spadl\\opta.py:242: FutureWarning: Downcasting object dtype arrays on .fillna, .ffill, .bfill is deprecated and will change in a future version. Call result.infer_objects(copy=False) instead. To opt-in to the future behavior, set `pd.set_option('future.no_silent_downcasting', True)`\n",
      "  ).bfill()\n"
     ]
    },
    {
     "name": "stdout",
     "output_type": "stream",
     "text": [
      "Folder path: C:/Users/jda/Desktop/Hvidovre IF - Silkeborg IF/python/data/!Processed/HVI_FCN\n",
      "Extracted number: 2367454\n"
     ]
    },
    {
     "name": "stderr",
     "output_type": "stream",
     "text": [
      "c:\\Users\\jda\\Desktop\\Hvidovre IF - Silkeborg IF\\python\\myenv-3.11\\Lib\\site-packages\\socceraction\\spadl\\opta.py:242: FutureWarning: Downcasting object dtype arrays on .fillna, .ffill, .bfill is deprecated and will change in a future version. Call result.infer_objects(copy=False) instead. To opt-in to the future behavior, set `pd.set_option('future.no_silent_downcasting', True)`\n",
      "  ).bfill()\n"
     ]
    },
    {
     "name": "stdout",
     "output_type": "stream",
     "text": [
      "Folder path: C:/Users/jda/Desktop/Hvidovre IF - Silkeborg IF/python/data/!Processed/HVI_LBK\n",
      "Extracted number: 2367376\n"
     ]
    },
    {
     "name": "stderr",
     "output_type": "stream",
     "text": [
      "c:\\Users\\jda\\Desktop\\Hvidovre IF - Silkeborg IF\\python\\myenv-3.11\\Lib\\site-packages\\socceraction\\spadl\\opta.py:242: FutureWarning: Downcasting object dtype arrays on .fillna, .ffill, .bfill is deprecated and will change in a future version. Call result.infer_objects(copy=False) instead. To opt-in to the future behavior, set `pd.set_option('future.no_silent_downcasting', True)`\n",
      "  ).bfill()\n"
     ]
    },
    {
     "name": "stdout",
     "output_type": "stream",
     "text": [
      "Folder path: C:/Users/jda/Desktop/Hvidovre IF - Silkeborg IF/python/data/!Processed/HVI_OB\n",
      "Extracted number: 2367366\n"
     ]
    },
    {
     "name": "stderr",
     "output_type": "stream",
     "text": [
      "c:\\Users\\jda\\Desktop\\Hvidovre IF - Silkeborg IF\\python\\myenv-3.11\\Lib\\site-packages\\socceraction\\spadl\\opta.py:242: FutureWarning: Downcasting object dtype arrays on .fillna, .ffill, .bfill is deprecated and will change in a future version. Call result.infer_objects(copy=False) instead. To opt-in to the future behavior, set `pd.set_option('future.no_silent_downcasting', True)`\n",
      "  ).bfill()\n"
     ]
    },
    {
     "name": "stdout",
     "output_type": "stream",
     "text": [
      "Folder path: C:/Users/jda/Desktop/Hvidovre IF - Silkeborg IF/python/data/!Processed/HVI_RFC\n",
      "Extracted number: 2367436\n"
     ]
    },
    {
     "name": "stderr",
     "output_type": "stream",
     "text": [
      "c:\\Users\\jda\\Desktop\\Hvidovre IF - Silkeborg IF\\python\\myenv-3.11\\Lib\\site-packages\\socceraction\\spadl\\opta.py:242: FutureWarning: Downcasting object dtype arrays on .fillna, .ffill, .bfill is deprecated and will change in a future version. Call result.infer_objects(copy=False) instead. To opt-in to the future behavior, set `pd.set_option('future.no_silent_downcasting', True)`\n",
      "  ).bfill()\n"
     ]
    },
    {
     "name": "stdout",
     "output_type": "stream",
     "text": [
      "Folder path: C:/Users/jda/Desktop/Hvidovre IF - Silkeborg IF/python/data/!Processed/HVI_SIF\n",
      "Extracted number: 2367400\n"
     ]
    },
    {
     "name": "stderr",
     "output_type": "stream",
     "text": [
      "c:\\Users\\jda\\Desktop\\Hvidovre IF - Silkeborg IF\\python\\myenv-3.11\\Lib\\site-packages\\socceraction\\spadl\\opta.py:242: FutureWarning: Downcasting object dtype arrays on .fillna, .ffill, .bfill is deprecated and will change in a future version. Call result.infer_objects(copy=False) instead. To opt-in to the future behavior, set `pd.set_option('future.no_silent_downcasting', True)`\n",
      "  ).bfill()\n"
     ]
    },
    {
     "name": "stdout",
     "output_type": "stream",
     "text": [
      "Folder path: C:/Users/jda/Desktop/Hvidovre IF - Silkeborg IF/python/data/!Processed/HVI_VB\n",
      "Extracted number: 2367423\n"
     ]
    },
    {
     "name": "stderr",
     "output_type": "stream",
     "text": [
      "c:\\Users\\jda\\Desktop\\Hvidovre IF - Silkeborg IF\\python\\myenv-3.11\\Lib\\site-packages\\socceraction\\spadl\\opta.py:242: FutureWarning: Downcasting object dtype arrays on .fillna, .ffill, .bfill is deprecated and will change in a future version. Call result.infer_objects(copy=False) instead. To opt-in to the future behavior, set `pd.set_option('future.no_silent_downcasting', True)`\n",
      "  ).bfill()\n"
     ]
    },
    {
     "name": "stdout",
     "output_type": "stream",
     "text": [
      "Folder path: C:/Users/jda/Desktop/Hvidovre IF - Silkeborg IF/python/data/!Processed/HVI_VFF\n",
      "Extracted number: 2367443\n"
     ]
    },
    {
     "name": "stderr",
     "output_type": "stream",
     "text": [
      "c:\\Users\\jda\\Desktop\\Hvidovre IF - Silkeborg IF\\python\\myenv-3.11\\Lib\\site-packages\\socceraction\\spadl\\opta.py:242: FutureWarning: Downcasting object dtype arrays on .fillna, .ffill, .bfill is deprecated and will change in a future version. Call result.infer_objects(copy=False) instead. To opt-in to the future behavior, set `pd.set_option('future.no_silent_downcasting', True)`\n",
      "  ).bfill()\n"
     ]
    },
    {
     "name": "stdout",
     "output_type": "stream",
     "text": [
      "Folder path: C:/Users/jda/Desktop/Hvidovre IF - Silkeborg IF/python/data/!Processed/LBK_AGF\n",
      "Extracted number: 2367401\n"
     ]
    },
    {
     "name": "stderr",
     "output_type": "stream",
     "text": [
      "c:\\Users\\jda\\Desktop\\Hvidovre IF - Silkeborg IF\\python\\myenv-3.11\\Lib\\site-packages\\socceraction\\spadl\\opta.py:242: FutureWarning: Downcasting object dtype arrays on .fillna, .ffill, .bfill is deprecated and will change in a future version. Call result.infer_objects(copy=False) instead. To opt-in to the future behavior, set `pd.set_option('future.no_silent_downcasting', True)`\n",
      "  ).bfill()\n"
     ]
    },
    {
     "name": "stdout",
     "output_type": "stream",
     "text": [
      "Folder path: C:/Users/jda/Desktop/Hvidovre IF - Silkeborg IF/python/data/!Processed/LBK_BIF\n",
      "Extracted number: 2367425\n"
     ]
    },
    {
     "name": "stderr",
     "output_type": "stream",
     "text": [
      "c:\\Users\\jda\\Desktop\\Hvidovre IF - Silkeborg IF\\python\\myenv-3.11\\Lib\\site-packages\\socceraction\\spadl\\opta.py:242: FutureWarning: Downcasting object dtype arrays on .fillna, .ffill, .bfill is deprecated and will change in a future version. Call result.infer_objects(copy=False) instead. To opt-in to the future behavior, set `pd.set_option('future.no_silent_downcasting', True)`\n",
      "  ).bfill()\n"
     ]
    },
    {
     "name": "stdout",
     "output_type": "stream",
     "text": [
      "Folder path: C:/Users/jda/Desktop/Hvidovre IF - Silkeborg IF/python/data/!Processed/LBK_FCK\n",
      "Extracted number: 2367334\n"
     ]
    },
    {
     "name": "stderr",
     "output_type": "stream",
     "text": [
      "c:\\Users\\jda\\Desktop\\Hvidovre IF - Silkeborg IF\\python\\myenv-3.11\\Lib\\site-packages\\socceraction\\spadl\\opta.py:242: FutureWarning: Downcasting object dtype arrays on .fillna, .ffill, .bfill is deprecated and will change in a future version. Call result.infer_objects(copy=False) instead. To opt-in to the future behavior, set `pd.set_option('future.no_silent_downcasting', True)`\n",
      "  ).bfill()\n"
     ]
    },
    {
     "name": "stdout",
     "output_type": "stream",
     "text": [
      "Folder path: C:/Users/jda/Desktop/Hvidovre IF - Silkeborg IF/python/data/!Processed/LBK_FCM\n",
      "Extracted number: 2367348\n"
     ]
    },
    {
     "name": "stderr",
     "output_type": "stream",
     "text": [
      "c:\\Users\\jda\\Desktop\\Hvidovre IF - Silkeborg IF\\python\\myenv-3.11\\Lib\\site-packages\\socceraction\\spadl\\opta.py:242: FutureWarning: Downcasting object dtype arrays on .fillna, .ffill, .bfill is deprecated and will change in a future version. Call result.infer_objects(copy=False) instead. To opt-in to the future behavior, set `pd.set_option('future.no_silent_downcasting', True)`\n",
      "  ).bfill()\n"
     ]
    },
    {
     "name": "stdout",
     "output_type": "stream",
     "text": [
      "Folder path: C:/Users/jda/Desktop/Hvidovre IF - Silkeborg IF/python/data/!Processed/LBK_FCN\n",
      "Extracted number: 2367371\n"
     ]
    },
    {
     "name": "stderr",
     "output_type": "stream",
     "text": [
      "c:\\Users\\jda\\Desktop\\Hvidovre IF - Silkeborg IF\\python\\myenv-3.11\\Lib\\site-packages\\socceraction\\spadl\\opta.py:242: FutureWarning: Downcasting object dtype arrays on .fillna, .ffill, .bfill is deprecated and will change in a future version. Call result.infer_objects(copy=False) instead. To opt-in to the future behavior, set `pd.set_option('future.no_silent_downcasting', True)`\n",
      "  ).bfill()\n"
     ]
    },
    {
     "name": "stdout",
     "output_type": "stream",
     "text": [
      "Folder path: C:/Users/jda/Desktop/Hvidovre IF - Silkeborg IF/python/data/!Processed/LBK_HVI\n",
      "Extracted number: 2367451\n"
     ]
    },
    {
     "name": "stderr",
     "output_type": "stream",
     "text": [
      "c:\\Users\\jda\\Desktop\\Hvidovre IF - Silkeborg IF\\python\\myenv-3.11\\Lib\\site-packages\\socceraction\\spadl\\opta.py:242: FutureWarning: Downcasting object dtype arrays on .fillna, .ffill, .bfill is deprecated and will change in a future version. Call result.infer_objects(copy=False) instead. To opt-in to the future behavior, set `pd.set_option('future.no_silent_downcasting', True)`\n",
      "  ).bfill()\n"
     ]
    },
    {
     "name": "stdout",
     "output_type": "stream",
     "text": [
      "Folder path: C:/Users/jda/Desktop/Hvidovre IF - Silkeborg IF/python/data/!Processed/LBK_OB\n",
      "Extracted number: 2367413\n"
     ]
    },
    {
     "name": "stderr",
     "output_type": "stream",
     "text": [
      "c:\\Users\\jda\\Desktop\\Hvidovre IF - Silkeborg IF\\python\\myenv-3.11\\Lib\\site-packages\\socceraction\\spadl\\opta.py:242: FutureWarning: Downcasting object dtype arrays on .fillna, .ffill, .bfill is deprecated and will change in a future version. Call result.infer_objects(copy=False) instead. To opt-in to the future behavior, set `pd.set_option('future.no_silent_downcasting', True)`\n",
      "  ).bfill()\n"
     ]
    },
    {
     "name": "stdout",
     "output_type": "stream",
     "text": [
      "Folder path: C:/Users/jda/Desktop/Hvidovre IF - Silkeborg IF/python/data/!Processed/LBK_RFC\n",
      "Extracted number: 2367359\n"
     ]
    },
    {
     "name": "stderr",
     "output_type": "stream",
     "text": [
      "c:\\Users\\jda\\Desktop\\Hvidovre IF - Silkeborg IF\\python\\myenv-3.11\\Lib\\site-packages\\socceraction\\spadl\\opta.py:242: FutureWarning: Downcasting object dtype arrays on .fillna, .ffill, .bfill is deprecated and will change in a future version. Call result.infer_objects(copy=False) instead. To opt-in to the future behavior, set `pd.set_option('future.no_silent_downcasting', True)`\n",
      "  ).bfill()\n"
     ]
    },
    {
     "name": "stdout",
     "output_type": "stream",
     "text": [
      "Folder path: C:/Users/jda/Desktop/Hvidovre IF - Silkeborg IF/python/data/!Processed/LBK_SIF\n",
      "Extracted number: 2367431\n"
     ]
    },
    {
     "name": "stderr",
     "output_type": "stream",
     "text": [
      "c:\\Users\\jda\\Desktop\\Hvidovre IF - Silkeborg IF\\python\\myenv-3.11\\Lib\\site-packages\\socceraction\\spadl\\opta.py:242: FutureWarning: Downcasting object dtype arrays on .fillna, .ffill, .bfill is deprecated and will change in a future version. Call result.infer_objects(copy=False) instead. To opt-in to the future behavior, set `pd.set_option('future.no_silent_downcasting', True)`\n",
      "  ).bfill()\n"
     ]
    },
    {
     "name": "stdout",
     "output_type": "stream",
     "text": [
      "Folder path: C:/Users/jda/Desktop/Hvidovre IF - Silkeborg IF/python/data/!Processed/LBK_VB\n",
      "Extracted number: 2367383\n"
     ]
    },
    {
     "name": "stderr",
     "output_type": "stream",
     "text": [
      "c:\\Users\\jda\\Desktop\\Hvidovre IF - Silkeborg IF\\python\\myenv-3.11\\Lib\\site-packages\\socceraction\\spadl\\opta.py:242: FutureWarning: Downcasting object dtype arrays on .fillna, .ffill, .bfill is deprecated and will change in a future version. Call result.infer_objects(copy=False) instead. To opt-in to the future behavior, set `pd.set_option('future.no_silent_downcasting', True)`\n",
      "  ).bfill()\n"
     ]
    },
    {
     "name": "stdout",
     "output_type": "stream",
     "text": [
      "Folder path: C:/Users/jda/Desktop/Hvidovre IF - Silkeborg IF/python/data/!Processed/LBK_VFF\n",
      "Extracted number: 2367463\n"
     ]
    },
    {
     "name": "stderr",
     "output_type": "stream",
     "text": [
      "c:\\Users\\jda\\Desktop\\Hvidovre IF - Silkeborg IF\\python\\myenv-3.11\\Lib\\site-packages\\socceraction\\spadl\\opta.py:242: FutureWarning: Downcasting object dtype arrays on .fillna, .ffill, .bfill is deprecated and will change in a future version. Call result.infer_objects(copy=False) instead. To opt-in to the future behavior, set `pd.set_option('future.no_silent_downcasting', True)`\n",
      "  ).bfill()\n"
     ]
    },
    {
     "name": "stdout",
     "output_type": "stream",
     "text": [
      "Folder path: C:/Users/jda/Desktop/Hvidovre IF - Silkeborg IF/python/data/!Processed/OB_AGF\n",
      "Extracted number: 2367361\n"
     ]
    },
    {
     "name": "stderr",
     "output_type": "stream",
     "text": [
      "c:\\Users\\jda\\Desktop\\Hvidovre IF - Silkeborg IF\\python\\myenv-3.11\\Lib\\site-packages\\socceraction\\spadl\\opta.py:242: FutureWarning: Downcasting object dtype arrays on .fillna, .ffill, .bfill is deprecated and will change in a future version. Call result.infer_objects(copy=False) instead. To opt-in to the future behavior, set `pd.set_option('future.no_silent_downcasting', True)`\n",
      "  ).bfill()\n"
     ]
    },
    {
     "name": "stdout",
     "output_type": "stream",
     "text": [
      "Folder path: C:/Users/jda/Desktop/Hvidovre IF - Silkeborg IF/python/data/!Processed/OB_BIF\n",
      "Extracted number: 2367444\n"
     ]
    },
    {
     "name": "stderr",
     "output_type": "stream",
     "text": [
      "c:\\Users\\jda\\Desktop\\Hvidovre IF - Silkeborg IF\\python\\myenv-3.11\\Lib\\site-packages\\socceraction\\spadl\\opta.py:242: FutureWarning: Downcasting object dtype arrays on .fillna, .ffill, .bfill is deprecated and will change in a future version. Call result.infer_objects(copy=False) instead. To opt-in to the future behavior, set `pd.set_option('future.no_silent_downcasting', True)`\n",
      "  ).bfill()\n"
     ]
    },
    {
     "name": "stdout",
     "output_type": "stream",
     "text": [
      "Folder path: C:/Users/jda/Desktop/Hvidovre IF - Silkeborg IF/python/data/!Processed/OB_FCK\n",
      "Extracted number: 2367464\n"
     ]
    },
    {
     "name": "stderr",
     "output_type": "stream",
     "text": [
      "c:\\Users\\jda\\Desktop\\Hvidovre IF - Silkeborg IF\\python\\myenv-3.11\\Lib\\site-packages\\socceraction\\spadl\\opta.py:242: FutureWarning: Downcasting object dtype arrays on .fillna, .ffill, .bfill is deprecated and will change in a future version. Call result.infer_objects(copy=False) instead. To opt-in to the future behavior, set `pd.set_option('future.no_silent_downcasting', True)`\n",
      "  ).bfill()\n"
     ]
    },
    {
     "name": "stdout",
     "output_type": "stream",
     "text": [
      "Folder path: C:/Users/jda/Desktop/Hvidovre IF - Silkeborg IF/python/data/!Processed/OB_FCM\n",
      "Extracted number: 2367403\n"
     ]
    },
    {
     "name": "stderr",
     "output_type": "stream",
     "text": [
      "c:\\Users\\jda\\Desktop\\Hvidovre IF - Silkeborg IF\\python\\myenv-3.11\\Lib\\site-packages\\socceraction\\spadl\\opta.py:242: FutureWarning: Downcasting object dtype arrays on .fillna, .ffill, .bfill is deprecated and will change in a future version. Call result.infer_objects(copy=False) instead. To opt-in to the future behavior, set `pd.set_option('future.no_silent_downcasting', True)`\n",
      "  ).bfill()\n"
     ]
    },
    {
     "name": "stdout",
     "output_type": "stream",
     "text": [
      "Folder path: C:/Users/jda/Desktop/Hvidovre IF - Silkeborg IF/python/data/!Processed/OB_FCN\n",
      "Extracted number: 2367434\n"
     ]
    },
    {
     "name": "stderr",
     "output_type": "stream",
     "text": [
      "c:\\Users\\jda\\Desktop\\Hvidovre IF - Silkeborg IF\\python\\myenv-3.11\\Lib\\site-packages\\socceraction\\spadl\\opta.py:242: FutureWarning: Downcasting object dtype arrays on .fillna, .ffill, .bfill is deprecated and will change in a future version. Call result.infer_objects(copy=False) instead. To opt-in to the future behavior, set `pd.set_option('future.no_silent_downcasting', True)`\n",
      "  ).bfill()\n"
     ]
    },
    {
     "name": "stdout",
     "output_type": "stream",
     "text": [
      "Folder path: C:/Users/jda/Desktop/Hvidovre IF - Silkeborg IF/python/data/!Processed/OB_HVI\n",
      "Extracted number: 2367420\n"
     ]
    },
    {
     "name": "stderr",
     "output_type": "stream",
     "text": [
      "c:\\Users\\jda\\Desktop\\Hvidovre IF - Silkeborg IF\\python\\myenv-3.11\\Lib\\site-packages\\socceraction\\spadl\\opta.py:242: FutureWarning: Downcasting object dtype arrays on .fillna, .ffill, .bfill is deprecated and will change in a future version. Call result.infer_objects(copy=False) instead. To opt-in to the future behavior, set `pd.set_option('future.no_silent_downcasting', True)`\n",
      "  ).bfill()\n"
     ]
    },
    {
     "name": "stdout",
     "output_type": "stream",
     "text": [
      "Folder path: C:/Users/jda/Desktop/Hvidovre IF - Silkeborg IF/python/data/!Processed/OB_LBK\n",
      "Extracted number: 2367392\n"
     ]
    },
    {
     "name": "stderr",
     "output_type": "stream",
     "text": [
      "c:\\Users\\jda\\Desktop\\Hvidovre IF - Silkeborg IF\\python\\myenv-3.11\\Lib\\site-packages\\socceraction\\spadl\\opta.py:242: FutureWarning: Downcasting object dtype arrays on .fillna, .ffill, .bfill is deprecated and will change in a future version. Call result.infer_objects(copy=False) instead. To opt-in to the future behavior, set `pd.set_option('future.no_silent_downcasting', True)`\n",
      "  ).bfill()\n"
     ]
    },
    {
     "name": "stdout",
     "output_type": "stream",
     "text": [
      "Folder path: C:/Users/jda/Desktop/Hvidovre IF - Silkeborg IF/python/data/!Processed/OB_SIF\n",
      "Extracted number: 2367377\n"
     ]
    },
    {
     "name": "stderr",
     "output_type": "stream",
     "text": [
      "c:\\Users\\jda\\Desktop\\Hvidovre IF - Silkeborg IF\\python\\myenv-3.11\\Lib\\site-packages\\socceraction\\spadl\\opta.py:242: FutureWarning: Downcasting object dtype arrays on .fillna, .ffill, .bfill is deprecated and will change in a future version. Call result.infer_objects(copy=False) instead. To opt-in to the future behavior, set `pd.set_option('future.no_silent_downcasting', True)`\n",
      "  ).bfill()\n"
     ]
    },
    {
     "name": "stdout",
     "output_type": "stream",
     "text": [
      "Folder path: C:/Users/jda/Desktop/Hvidovre IF - Silkeborg IF/python/data/!Processed/OB_VB\n",
      "Extracted number: 2367369\n"
     ]
    },
    {
     "name": "stderr",
     "output_type": "stream",
     "text": [
      "c:\\Users\\jda\\Desktop\\Hvidovre IF - Silkeborg IF\\python\\myenv-3.11\\Lib\\site-packages\\socceraction\\spadl\\opta.py:242: FutureWarning: Downcasting object dtype arrays on .fillna, .ffill, .bfill is deprecated and will change in a future version. Call result.infer_objects(copy=False) instead. To opt-in to the future behavior, set `pd.set_option('future.no_silent_downcasting', True)`\n",
      "  ).bfill()\n"
     ]
    },
    {
     "name": "stdout",
     "output_type": "stream",
     "text": [
      "Folder path: C:/Users/jda/Desktop/Hvidovre IF - Silkeborg IF/python/data/!Processed/OB_VFF\n",
      "Extracted number: 2367350\n"
     ]
    },
    {
     "name": "stderr",
     "output_type": "stream",
     "text": [
      "c:\\Users\\jda\\Desktop\\Hvidovre IF - Silkeborg IF\\python\\myenv-3.11\\Lib\\site-packages\\socceraction\\spadl\\opta.py:242: FutureWarning: Downcasting object dtype arrays on .fillna, .ffill, .bfill is deprecated and will change in a future version. Call result.infer_objects(copy=False) instead. To opt-in to the future behavior, set `pd.set_option('future.no_silent_downcasting', True)`\n",
      "  ).bfill()\n"
     ]
    },
    {
     "name": "stdout",
     "output_type": "stream",
     "text": [
      "Folder path: C:/Users/jda/Desktop/Hvidovre IF - Silkeborg IF/python/data/!Processed/RFC_AGF\n",
      "Extracted number: 2367385\n"
     ]
    },
    {
     "name": "stderr",
     "output_type": "stream",
     "text": [
      "c:\\Users\\jda\\Desktop\\Hvidovre IF - Silkeborg IF\\python\\myenv-3.11\\Lib\\site-packages\\socceraction\\spadl\\opta.py:242: FutureWarning: Downcasting object dtype arrays on .fillna, .ffill, .bfill is deprecated and will change in a future version. Call result.infer_objects(copy=False) instead. To opt-in to the future behavior, set `pd.set_option('future.no_silent_downcasting', True)`\n",
      "  ).bfill()\n"
     ]
    },
    {
     "name": "stdout",
     "output_type": "stream",
     "text": [
      "Folder path: C:/Users/jda/Desktop/Hvidovre IF - Silkeborg IF/python/data/!Processed/RFC_BIF\n",
      "Extracted number: 2367402\n"
     ]
    },
    {
     "name": "stderr",
     "output_type": "stream",
     "text": [
      "c:\\Users\\jda\\Desktop\\Hvidovre IF - Silkeborg IF\\python\\myenv-3.11\\Lib\\site-packages\\socceraction\\spadl\\opta.py:242: FutureWarning: Downcasting object dtype arrays on .fillna, .ffill, .bfill is deprecated and will change in a future version. Call result.infer_objects(copy=False) instead. To opt-in to the future behavior, set `pd.set_option('future.no_silent_downcasting', True)`\n",
      "  ).bfill()\n"
     ]
    },
    {
     "name": "stdout",
     "output_type": "stream",
     "text": [
      "Folder path: C:/Users/jda/Desktop/Hvidovre IF - Silkeborg IF/python/data/!Processed/RFC_FCK\n",
      "Extracted number: 2367415\n"
     ]
    },
    {
     "name": "stderr",
     "output_type": "stream",
     "text": [
      "c:\\Users\\jda\\Desktop\\Hvidovre IF - Silkeborg IF\\python\\myenv-3.11\\Lib\\site-packages\\socceraction\\spadl\\opta.py:242: FutureWarning: Downcasting object dtype arrays on .fillna, .ffill, .bfill is deprecated and will change in a future version. Call result.infer_objects(copy=False) instead. To opt-in to the future behavior, set `pd.set_option('future.no_silent_downcasting', True)`\n",
      "  ).bfill()\n"
     ]
    },
    {
     "name": "stdout",
     "output_type": "stream",
     "text": [
      "Folder path: C:/Users/jda/Desktop/Hvidovre IF - Silkeborg IF/python/data/!Processed/RFC_FCM\n",
      "Extracted number: 2367457\n"
     ]
    },
    {
     "name": "stderr",
     "output_type": "stream",
     "text": [
      "c:\\Users\\jda\\Desktop\\Hvidovre IF - Silkeborg IF\\python\\myenv-3.11\\Lib\\site-packages\\socceraction\\spadl\\opta.py:242: FutureWarning: Downcasting object dtype arrays on .fillna, .ffill, .bfill is deprecated and will change in a future version. Call result.infer_objects(copy=False) instead. To opt-in to the future behavior, set `pd.set_option('future.no_silent_downcasting', True)`\n",
      "  ).bfill()\n"
     ]
    },
    {
     "name": "stdout",
     "output_type": "stream",
     "text": [
      "Folder path: C:/Users/jda/Desktop/Hvidovre IF - Silkeborg IF/python/data/!Processed/RFC_FCN\n",
      "Extracted number: 2367352\n"
     ]
    },
    {
     "name": "stderr",
     "output_type": "stream",
     "text": [
      "c:\\Users\\jda\\Desktop\\Hvidovre IF - Silkeborg IF\\python\\myenv-3.11\\Lib\\site-packages\\socceraction\\spadl\\opta.py:242: FutureWarning: Downcasting object dtype arrays on .fillna, .ffill, .bfill is deprecated and will change in a future version. Call result.infer_objects(copy=False) instead. To opt-in to the future behavior, set `pd.set_option('future.no_silent_downcasting', True)`\n",
      "  ).bfill()\n"
     ]
    },
    {
     "name": "stdout",
     "output_type": "stream",
     "text": [
      "Folder path: C:/Users/jda/Desktop/Hvidovre IF - Silkeborg IF/python/data/!Processed/RFC_HVI\n",
      "Extracted number: 2367342\n"
     ]
    },
    {
     "name": "stderr",
     "output_type": "stream",
     "text": [
      "c:\\Users\\jda\\Desktop\\Hvidovre IF - Silkeborg IF\\python\\myenv-3.11\\Lib\\site-packages\\socceraction\\spadl\\opta.py:242: FutureWarning: Downcasting object dtype arrays on .fillna, .ffill, .bfill is deprecated and will change in a future version. Call result.infer_objects(copy=False) instead. To opt-in to the future behavior, set `pd.set_option('future.no_silent_downcasting', True)`\n",
      "  ).bfill()\n"
     ]
    },
    {
     "name": "stdout",
     "output_type": "stream",
     "text": [
      "Folder path: C:/Users/jda/Desktop/Hvidovre IF - Silkeborg IF/python/data/!Processed/RFC_LBK\n",
      "Extracted number: 2367445\n"
     ]
    },
    {
     "name": "stderr",
     "output_type": "stream",
     "text": [
      "c:\\Users\\jda\\Desktop\\Hvidovre IF - Silkeborg IF\\python\\myenv-3.11\\Lib\\site-packages\\socceraction\\spadl\\opta.py:242: FutureWarning: Downcasting object dtype arrays on .fillna, .ffill, .bfill is deprecated and will change in a future version. Call result.infer_objects(copy=False) instead. To opt-in to the future behavior, set `pd.set_option('future.no_silent_downcasting', True)`\n",
      "  ).bfill()\n"
     ]
    },
    {
     "name": "stdout",
     "output_type": "stream",
     "text": [
      "Folder path: C:/Users/jda/Desktop/Hvidovre IF - Silkeborg IF/python/data/!Processed/RFC_OB\n",
      "Extracted number: 2367428\n"
     ]
    },
    {
     "name": "stderr",
     "output_type": "stream",
     "text": [
      "c:\\Users\\jda\\Desktop\\Hvidovre IF - Silkeborg IF\\python\\myenv-3.11\\Lib\\site-packages\\socceraction\\spadl\\opta.py:242: FutureWarning: Downcasting object dtype arrays on .fillna, .ffill, .bfill is deprecated and will change in a future version. Call result.infer_objects(copy=False) instead. To opt-in to the future behavior, set `pd.set_option('future.no_silent_downcasting', True)`\n",
      "  ).bfill()\n"
     ]
    },
    {
     "name": "stdout",
     "output_type": "stream",
     "text": [
      "Folder path: C:/Users/jda/Desktop/Hvidovre IF - Silkeborg IF/python/data/!Processed/RFC_SIF\n",
      "Extracted number: 2367388\n"
     ]
    },
    {
     "name": "stderr",
     "output_type": "stream",
     "text": [
      "c:\\Users\\jda\\Desktop\\Hvidovre IF - Silkeborg IF\\python\\myenv-3.11\\Lib\\site-packages\\socceraction\\spadl\\opta.py:242: FutureWarning: Downcasting object dtype arrays on .fillna, .ffill, .bfill is deprecated and will change in a future version. Call result.infer_objects(copy=False) instead. To opt-in to the future behavior, set `pd.set_option('future.no_silent_downcasting', True)`\n",
      "  ).bfill()\n"
     ]
    },
    {
     "name": "stdout",
     "output_type": "stream",
     "text": [
      "Folder path: C:/Users/jda/Desktop/Hvidovre IF - Silkeborg IF/python/data/!Processed/RFC_VB\n",
      "Extracted number: 2367432\n"
     ]
    },
    {
     "name": "stderr",
     "output_type": "stream",
     "text": [
      "c:\\Users\\jda\\Desktop\\Hvidovre IF - Silkeborg IF\\python\\myenv-3.11\\Lib\\site-packages\\socceraction\\spadl\\opta.py:242: FutureWarning: Downcasting object dtype arrays on .fillna, .ffill, .bfill is deprecated and will change in a future version. Call result.infer_objects(copy=False) instead. To opt-in to the future behavior, set `pd.set_option('future.no_silent_downcasting', True)`\n",
      "  ).bfill()\n"
     ]
    },
    {
     "name": "stdout",
     "output_type": "stream",
     "text": [
      "Folder path: C:/Users/jda/Desktop/Hvidovre IF - Silkeborg IF/python/data/!Processed/RFC_VFF\n",
      "Extracted number: 2367363\n"
     ]
    },
    {
     "name": "stderr",
     "output_type": "stream",
     "text": [
      "c:\\Users\\jda\\Desktop\\Hvidovre IF - Silkeborg IF\\python\\myenv-3.11\\Lib\\site-packages\\socceraction\\spadl\\opta.py:242: FutureWarning: Downcasting object dtype arrays on .fillna, .ffill, .bfill is deprecated and will change in a future version. Call result.infer_objects(copy=False) instead. To opt-in to the future behavior, set `pd.set_option('future.no_silent_downcasting', True)`\n",
      "  ).bfill()\n"
     ]
    },
    {
     "name": "stdout",
     "output_type": "stream",
     "text": [
      "Folder path: C:/Users/jda/Desktop/Hvidovre IF - Silkeborg IF/python/data/!Processed/SIF_AGF\n",
      "Extracted number: 2367455\n"
     ]
    },
    {
     "name": "stderr",
     "output_type": "stream",
     "text": [
      "c:\\Users\\jda\\Desktop\\Hvidovre IF - Silkeborg IF\\python\\myenv-3.11\\Lib\\site-packages\\socceraction\\spadl\\opta.py:242: FutureWarning: Downcasting object dtype arrays on .fillna, .ffill, .bfill is deprecated and will change in a future version. Call result.infer_objects(copy=False) instead. To opt-in to the future behavior, set `pd.set_option('future.no_silent_downcasting', True)`\n",
      "  ).bfill()\n"
     ]
    },
    {
     "name": "stdout",
     "output_type": "stream",
     "text": [
      "Folder path: C:/Users/jda/Desktop/Hvidovre IF - Silkeborg IF/python/data/!Processed/SIF_BIF\n",
      "Extracted number: 2367337\n"
     ]
    },
    {
     "name": "stderr",
     "output_type": "stream",
     "text": [
      "c:\\Users\\jda\\Desktop\\Hvidovre IF - Silkeborg IF\\python\\myenv-3.11\\Lib\\site-packages\\socceraction\\spadl\\opta.py:242: FutureWarning: Downcasting object dtype arrays on .fillna, .ffill, .bfill is deprecated and will change in a future version. Call result.infer_objects(copy=False) instead. To opt-in to the future behavior, set `pd.set_option('future.no_silent_downcasting', True)`\n",
      "  ).bfill()\n"
     ]
    },
    {
     "name": "stdout",
     "output_type": "stream",
     "text": [
      "Folder path: C:/Users/jda/Desktop/Hvidovre IF - Silkeborg IF/python/data/!Processed/SIF_FCK\n",
      "Extracted number: 2367438\n"
     ]
    },
    {
     "name": "stderr",
     "output_type": "stream",
     "text": [
      "c:\\Users\\jda\\Desktop\\Hvidovre IF - Silkeborg IF\\python\\myenv-3.11\\Lib\\site-packages\\socceraction\\spadl\\opta.py:242: FutureWarning: Downcasting object dtype arrays on .fillna, .ffill, .bfill is deprecated and will change in a future version. Call result.infer_objects(copy=False) instead. To opt-in to the future behavior, set `pd.set_option('future.no_silent_downcasting', True)`\n",
      "  ).bfill()\n"
     ]
    },
    {
     "name": "stdout",
     "output_type": "stream",
     "text": [
      "Folder path: C:/Users/jda/Desktop/Hvidovre IF - Silkeborg IF/python/data/!Processed/SIF_FCM\n",
      "Extracted number: 2367427\n"
     ]
    },
    {
     "name": "stderr",
     "output_type": "stream",
     "text": [
      "c:\\Users\\jda\\Desktop\\Hvidovre IF - Silkeborg IF\\python\\myenv-3.11\\Lib\\site-packages\\socceraction\\spadl\\opta.py:242: FutureWarning: Downcasting object dtype arrays on .fillna, .ffill, .bfill is deprecated and will change in a future version. Call result.infer_objects(copy=False) instead. To opt-in to the future behavior, set `pd.set_option('future.no_silent_downcasting', True)`\n",
      "  ).bfill()\n"
     ]
    },
    {
     "name": "stdout",
     "output_type": "stream",
     "text": [
      "Folder path: C:/Users/jda/Desktop/Hvidovre IF - Silkeborg IF/python/data/!Processed/SIF_FCN\n",
      "Extracted number: 2367358\n"
     ]
    },
    {
     "name": "stderr",
     "output_type": "stream",
     "text": [
      "c:\\Users\\jda\\Desktop\\Hvidovre IF - Silkeborg IF\\python\\myenv-3.11\\Lib\\site-packages\\socceraction\\spadl\\opta.py:242: FutureWarning: Downcasting object dtype arrays on .fillna, .ffill, .bfill is deprecated and will change in a future version. Call result.infer_objects(copy=False) instead. To opt-in to the future behavior, set `pd.set_option('future.no_silent_downcasting', True)`\n",
      "  ).bfill()\n"
     ]
    },
    {
     "name": "stdout",
     "output_type": "stream",
     "text": [
      "Folder path: C:/Users/jda/Desktop/Hvidovre IF - Silkeborg IF/python/data/!Processed/SIF_HVI\n",
      "Extracted number: 2367370\n"
     ]
    },
    {
     "name": "stderr",
     "output_type": "stream",
     "text": [
      "c:\\Users\\jda\\Desktop\\Hvidovre IF - Silkeborg IF\\python\\myenv-3.11\\Lib\\site-packages\\socceraction\\spadl\\opta.py:242: FutureWarning: Downcasting object dtype arrays on .fillna, .ffill, .bfill is deprecated and will change in a future version. Call result.infer_objects(copy=False) instead. To opt-in to the future behavior, set `pd.set_option('future.no_silent_downcasting', True)`\n",
      "  ).bfill()\n"
     ]
    },
    {
     "name": "stdout",
     "output_type": "stream",
     "text": [
      "Folder path: C:/Users/jda/Desktop/Hvidovre IF - Silkeborg IF/python/data/!Processed/SIF_LBK\n",
      "Extracted number: 2367398\n"
     ]
    },
    {
     "name": "stderr",
     "output_type": "stream",
     "text": [
      "c:\\Users\\jda\\Desktop\\Hvidovre IF - Silkeborg IF\\python\\myenv-3.11\\Lib\\site-packages\\socceraction\\spadl\\opta.py:242: FutureWarning: Downcasting object dtype arrays on .fillna, .ffill, .bfill is deprecated and will change in a future version. Call result.infer_objects(copy=False) instead. To opt-in to the future behavior, set `pd.set_option('future.no_silent_downcasting', True)`\n",
      "  ).bfill()\n"
     ]
    },
    {
     "name": "stdout",
     "output_type": "stream",
     "text": [
      "Folder path: C:/Users/jda/Desktop/Hvidovre IF - Silkeborg IF/python/data/!Processed/SIF_OB\n",
      "Extracted number: 2367410\n"
     ]
    },
    {
     "name": "stderr",
     "output_type": "stream",
     "text": [
      "c:\\Users\\jda\\Desktop\\Hvidovre IF - Silkeborg IF\\python\\myenv-3.11\\Lib\\site-packages\\socceraction\\spadl\\opta.py:242: FutureWarning: Downcasting object dtype arrays on .fillna, .ffill, .bfill is deprecated and will change in a future version. Call result.infer_objects(copy=False) instead. To opt-in to the future behavior, set `pd.set_option('future.no_silent_downcasting', True)`\n",
      "  ).bfill()\n"
     ]
    },
    {
     "name": "stdout",
     "output_type": "stream",
     "text": [
      "Folder path: C:/Users/jda/Desktop/Hvidovre IF - Silkeborg IF/python/data/!Processed/SIF_RFC\n",
      "Extracted number: 2367422\n"
     ]
    },
    {
     "name": "stderr",
     "output_type": "stream",
     "text": [
      "c:\\Users\\jda\\Desktop\\Hvidovre IF - Silkeborg IF\\python\\myenv-3.11\\Lib\\site-packages\\socceraction\\spadl\\opta.py:242: FutureWarning: Downcasting object dtype arrays on .fillna, .ffill, .bfill is deprecated and will change in a future version. Call result.infer_objects(copy=False) instead. To opt-in to the future behavior, set `pd.set_option('future.no_silent_downcasting', True)`\n",
      "  ).bfill()\n"
     ]
    },
    {
     "name": "stdout",
     "output_type": "stream",
     "text": [
      "Folder path: C:/Users/jda/Desktop/Hvidovre IF - Silkeborg IF/python/data/!Processed/SIF_VB\n",
      "Extracted number: 2367346\n"
     ]
    },
    {
     "name": "stderr",
     "output_type": "stream",
     "text": [
      "c:\\Users\\jda\\Desktop\\Hvidovre IF - Silkeborg IF\\python\\myenv-3.11\\Lib\\site-packages\\socceraction\\spadl\\opta.py:242: FutureWarning: Downcasting object dtype arrays on .fillna, .ffill, .bfill is deprecated and will change in a future version. Call result.infer_objects(copy=False) instead. To opt-in to the future behavior, set `pd.set_option('future.no_silent_downcasting', True)`\n",
      "  ).bfill()\n"
     ]
    },
    {
     "name": "stdout",
     "output_type": "stream",
     "text": [
      "Folder path: C:/Users/jda/Desktop/Hvidovre IF - Silkeborg IF/python/data/!Processed/SIF_VFF\n",
      "Extracted number: 2367384\n"
     ]
    },
    {
     "name": "stderr",
     "output_type": "stream",
     "text": [
      "c:\\Users\\jda\\Desktop\\Hvidovre IF - Silkeborg IF\\python\\myenv-3.11\\Lib\\site-packages\\socceraction\\spadl\\opta.py:242: FutureWarning: Downcasting object dtype arrays on .fillna, .ffill, .bfill is deprecated and will change in a future version. Call result.infer_objects(copy=False) instead. To opt-in to the future behavior, set `pd.set_option('future.no_silent_downcasting', True)`\n",
      "  ).bfill()\n"
     ]
    },
    {
     "name": "stdout",
     "output_type": "stream",
     "text": [
      "Folder path: C:/Users/jda/Desktop/Hvidovre IF - Silkeborg IF/python/data/!Processed/VB_AGF\n",
      "Extracted number: 2367437\n"
     ]
    },
    {
     "name": "stderr",
     "output_type": "stream",
     "text": [
      "c:\\Users\\jda\\Desktop\\Hvidovre IF - Silkeborg IF\\python\\myenv-3.11\\Lib\\site-packages\\socceraction\\spadl\\opta.py:242: FutureWarning: Downcasting object dtype arrays on .fillna, .ffill, .bfill is deprecated and will change in a future version. Call result.infer_objects(copy=False) instead. To opt-in to the future behavior, set `pd.set_option('future.no_silent_downcasting', True)`\n",
      "  ).bfill()\n"
     ]
    },
    {
     "name": "stdout",
     "output_type": "stream",
     "text": [
      "Folder path: C:/Users/jda/Desktop/Hvidovre IF - Silkeborg IF/python/data/!Processed/VB_BIF\n",
      "Extracted number: 2367368\n"
     ]
    },
    {
     "name": "stderr",
     "output_type": "stream",
     "text": [
      "c:\\Users\\jda\\Desktop\\Hvidovre IF - Silkeborg IF\\python\\myenv-3.11\\Lib\\site-packages\\socceraction\\spadl\\opta.py:242: FutureWarning: Downcasting object dtype arrays on .fillna, .ffill, .bfill is deprecated and will change in a future version. Call result.infer_objects(copy=False) instead. To opt-in to the future behavior, set `pd.set_option('future.no_silent_downcasting', True)`\n",
      "  ).bfill()\n"
     ]
    },
    {
     "name": "stdout",
     "output_type": "stream",
     "text": [
      "Folder path: C:/Users/jda/Desktop/Hvidovre IF - Silkeborg IF/python/data/!Processed/VB_FCK\n",
      "Extracted number: 2367340\n"
     ]
    },
    {
     "name": "stderr",
     "output_type": "stream",
     "text": [
      "c:\\Users\\jda\\Desktop\\Hvidovre IF - Silkeborg IF\\python\\myenv-3.11\\Lib\\site-packages\\socceraction\\spadl\\opta.py:242: FutureWarning: Downcasting object dtype arrays on .fillna, .ffill, .bfill is deprecated and will change in a future version. Call result.infer_objects(copy=False) instead. To opt-in to the future behavior, set `pd.set_option('future.no_silent_downcasting', True)`\n",
      "  ).bfill()\n"
     ]
    },
    {
     "name": "stdout",
     "output_type": "stream",
     "text": [
      "Folder path: C:/Users/jda/Desktop/Hvidovre IF - Silkeborg IF/python/data/!Processed/VB_FCM\n",
      "Extracted number: 2367353\n"
     ]
    },
    {
     "name": "stderr",
     "output_type": "stream",
     "text": [
      "c:\\Users\\jda\\Desktop\\Hvidovre IF - Silkeborg IF\\python\\myenv-3.11\\Lib\\site-packages\\socceraction\\spadl\\opta.py:242: FutureWarning: Downcasting object dtype arrays on .fillna, .ffill, .bfill is deprecated and will change in a future version. Call result.infer_objects(copy=False) instead. To opt-in to the future behavior, set `pd.set_option('future.no_silent_downcasting', True)`\n",
      "  ).bfill()\n"
     ]
    },
    {
     "name": "stdout",
     "output_type": "stream",
     "text": [
      "Folder path: C:/Users/jda/Desktop/Hvidovre IF - Silkeborg IF/python/data/!Processed/VB_FCN\n",
      "Extracted number: 2367391\n"
     ]
    },
    {
     "name": "stderr",
     "output_type": "stream",
     "text": [
      "c:\\Users\\jda\\Desktop\\Hvidovre IF - Silkeborg IF\\python\\myenv-3.11\\Lib\\site-packages\\socceraction\\spadl\\opta.py:242: FutureWarning: Downcasting object dtype arrays on .fillna, .ffill, .bfill is deprecated and will change in a future version. Call result.infer_objects(copy=False) instead. To opt-in to the future behavior, set `pd.set_option('future.no_silent_downcasting', True)`\n",
      "  ).bfill()\n"
     ]
    },
    {
     "name": "stdout",
     "output_type": "stream",
     "text": [
      "Folder path: C:/Users/jda/Desktop/Hvidovre IF - Silkeborg IF/python/data/!Processed/VB_HVI\n",
      "Extracted number: 2367397\n"
     ]
    },
    {
     "name": "stderr",
     "output_type": "stream",
     "text": [
      "c:\\Users\\jda\\Desktop\\Hvidovre IF - Silkeborg IF\\python\\myenv-3.11\\Lib\\site-packages\\socceraction\\spadl\\opta.py:242: FutureWarning: Downcasting object dtype arrays on .fillna, .ffill, .bfill is deprecated and will change in a future version. Call result.infer_objects(copy=False) instead. To opt-in to the future behavior, set `pd.set_option('future.no_silent_downcasting', True)`\n",
      "  ).bfill()\n"
     ]
    },
    {
     "name": "stdout",
     "output_type": "stream",
     "text": [
      "Folder path: C:/Users/jda/Desktop/Hvidovre IF - Silkeborg IF/python/data/!Processed/VB_LBK\n",
      "Extracted number: 2367421\n"
     ]
    },
    {
     "name": "stderr",
     "output_type": "stream",
     "text": [
      "c:\\Users\\jda\\Desktop\\Hvidovre IF - Silkeborg IF\\python\\myenv-3.11\\Lib\\site-packages\\socceraction\\spadl\\opta.py:242: FutureWarning: Downcasting object dtype arrays on .fillna, .ffill, .bfill is deprecated and will change in a future version. Call result.infer_objects(copy=False) instead. To opt-in to the future behavior, set `pd.set_option('future.no_silent_downcasting', True)`\n",
      "  ).bfill()\n"
     ]
    },
    {
     "name": "stdout",
     "output_type": "stream",
     "text": [
      "Folder path: C:/Users/jda/Desktop/Hvidovre IF - Silkeborg IF/python/data/!Processed/VB_OB\n",
      "Extracted number: 2367458\n"
     ]
    },
    {
     "name": "stderr",
     "output_type": "stream",
     "text": [
      "c:\\Users\\jda\\Desktop\\Hvidovre IF - Silkeborg IF\\python\\myenv-3.11\\Lib\\site-packages\\socceraction\\spadl\\opta.py:242: FutureWarning: Downcasting object dtype arrays on .fillna, .ffill, .bfill is deprecated and will change in a future version. Call result.infer_objects(copy=False) instead. To opt-in to the future behavior, set `pd.set_option('future.no_silent_downcasting', True)`\n",
      "  ).bfill()\n"
     ]
    },
    {
     "name": "stdout",
     "output_type": "stream",
     "text": [
      "Folder path: C:/Users/jda/Desktop/Hvidovre IF - Silkeborg IF/python/data/!Processed/VB_RFC\n",
      "Extracted number: 2367380\n"
     ]
    },
    {
     "name": "stderr",
     "output_type": "stream",
     "text": [
      "c:\\Users\\jda\\Desktop\\Hvidovre IF - Silkeborg IF\\python\\myenv-3.11\\Lib\\site-packages\\socceraction\\spadl\\opta.py:242: FutureWarning: Downcasting object dtype arrays on .fillna, .ffill, .bfill is deprecated and will change in a future version. Call result.infer_objects(copy=False) instead. To opt-in to the future behavior, set `pd.set_option('future.no_silent_downcasting', True)`\n",
      "  ).bfill()\n"
     ]
    },
    {
     "name": "stdout",
     "output_type": "stream",
     "text": [
      "Folder path: C:/Users/jda/Desktop/Hvidovre IF - Silkeborg IF/python/data/!Processed/VB_SIF\n",
      "Extracted number: 2367446\n"
     ]
    },
    {
     "name": "stderr",
     "output_type": "stream",
     "text": [
      "c:\\Users\\jda\\Desktop\\Hvidovre IF - Silkeborg IF\\python\\myenv-3.11\\Lib\\site-packages\\socceraction\\spadl\\opta.py:242: FutureWarning: Downcasting object dtype arrays on .fillna, .ffill, .bfill is deprecated and will change in a future version. Call result.infer_objects(copy=False) instead. To opt-in to the future behavior, set `pd.set_option('future.no_silent_downcasting', True)`\n",
      "  ).bfill()\n"
     ]
    },
    {
     "name": "stdout",
     "output_type": "stream",
     "text": [
      "Folder path: C:/Users/jda/Desktop/Hvidovre IF - Silkeborg IF/python/data/!Processed/VB_VFF\n",
      "Extracted number: 2367407\n"
     ]
    },
    {
     "name": "stderr",
     "output_type": "stream",
     "text": [
      "c:\\Users\\jda\\Desktop\\Hvidovre IF - Silkeborg IF\\python\\myenv-3.11\\Lib\\site-packages\\socceraction\\spadl\\opta.py:242: FutureWarning: Downcasting object dtype arrays on .fillna, .ffill, .bfill is deprecated and will change in a future version. Call result.infer_objects(copy=False) instead. To opt-in to the future behavior, set `pd.set_option('future.no_silent_downcasting', True)`\n",
      "  ).bfill()\n"
     ]
    },
    {
     "name": "stdout",
     "output_type": "stream",
     "text": [
      "Folder path: C:/Users/jda/Desktop/Hvidovre IF - Silkeborg IF/python/data/!Processed/VFF_AGF\n",
      "Extracted number: 2367389\n"
     ]
    },
    {
     "name": "stderr",
     "output_type": "stream",
     "text": [
      "c:\\Users\\jda\\Desktop\\Hvidovre IF - Silkeborg IF\\python\\myenv-3.11\\Lib\\site-packages\\socceraction\\spadl\\opta.py:242: FutureWarning: Downcasting object dtype arrays on .fillna, .ffill, .bfill is deprecated and will change in a future version. Call result.infer_objects(copy=False) instead. To opt-in to the future behavior, set `pd.set_option('future.no_silent_downcasting', True)`\n",
      "  ).bfill()\n"
     ]
    },
    {
     "name": "stdout",
     "output_type": "stream",
     "text": [
      "Folder path: C:/Users/jda/Desktop/Hvidovre IF - Silkeborg IF/python/data/!Processed/VFF_BIF\n",
      "Extracted number: 2367456\n"
     ]
    },
    {
     "name": "stderr",
     "output_type": "stream",
     "text": [
      "c:\\Users\\jda\\Desktop\\Hvidovre IF - Silkeborg IF\\python\\myenv-3.11\\Lib\\site-packages\\socceraction\\spadl\\opta.py:242: FutureWarning: Downcasting object dtype arrays on .fillna, .ffill, .bfill is deprecated and will change in a future version. Call result.infer_objects(copy=False) instead. To opt-in to the future behavior, set `pd.set_option('future.no_silent_downcasting', True)`\n",
      "  ).bfill()\n"
     ]
    },
    {
     "name": "stdout",
     "output_type": "stream",
     "text": [
      "Folder path: C:/Users/jda/Desktop/Hvidovre IF - Silkeborg IF/python/data/!Processed/VFF_FCK\n",
      "Extracted number: 2367426\n"
     ]
    },
    {
     "name": "stderr",
     "output_type": "stream",
     "text": [
      "c:\\Users\\jda\\Desktop\\Hvidovre IF - Silkeborg IF\\python\\myenv-3.11\\Lib\\site-packages\\socceraction\\spadl\\opta.py:242: FutureWarning: Downcasting object dtype arrays on .fillna, .ffill, .bfill is deprecated and will change in a future version. Call result.infer_objects(copy=False) instead. To opt-in to the future behavior, set `pd.set_option('future.no_silent_downcasting', True)`\n",
      "  ).bfill()\n"
     ]
    },
    {
     "name": "stdout",
     "output_type": "stream",
     "text": [
      "Folder path: C:/Users/jda/Desktop/Hvidovre IF - Silkeborg IF/python/data/!Processed/VFF_FCM\n",
      "Extracted number: 2367379\n"
     ]
    },
    {
     "name": "stderr",
     "output_type": "stream",
     "text": [
      "c:\\Users\\jda\\Desktop\\Hvidovre IF - Silkeborg IF\\python\\myenv-3.11\\Lib\\site-packages\\socceraction\\spadl\\opta.py:242: FutureWarning: Downcasting object dtype arrays on .fillna, .ffill, .bfill is deprecated and will change in a future version. Call result.infer_objects(copy=False) instead. To opt-in to the future behavior, set `pd.set_option('future.no_silent_downcasting', True)`\n",
      "  ).bfill()\n"
     ]
    },
    {
     "name": "stdout",
     "output_type": "stream",
     "text": [
      "Folder path: C:/Users/jda/Desktop/Hvidovre IF - Silkeborg IF/python/data/!Processed/VFF_FCN\n",
      "Extracted number: 2367404\n"
     ]
    },
    {
     "name": "stderr",
     "output_type": "stream",
     "text": [
      "c:\\Users\\jda\\Desktop\\Hvidovre IF - Silkeborg IF\\python\\myenv-3.11\\Lib\\site-packages\\socceraction\\spadl\\opta.py:242: FutureWarning: Downcasting object dtype arrays on .fillna, .ffill, .bfill is deprecated and will change in a future version. Call result.infer_objects(copy=False) instead. To opt-in to the future behavior, set `pd.set_option('future.no_silent_downcasting', True)`\n",
      "  ).bfill()\n"
     ]
    },
    {
     "name": "stdout",
     "output_type": "stream",
     "text": [
      "Folder path: C:/Users/jda/Desktop/Hvidovre IF - Silkeborg IF/python/data/!Processed/VFF_HVI\n",
      "Extracted number: 2367356\n"
     ]
    },
    {
     "name": "stderr",
     "output_type": "stream",
     "text": [
      "c:\\Users\\jda\\Desktop\\Hvidovre IF - Silkeborg IF\\python\\myenv-3.11\\Lib\\site-packages\\socceraction\\spadl\\opta.py:242: FutureWarning: Downcasting object dtype arrays on .fillna, .ffill, .bfill is deprecated and will change in a future version. Call result.infer_objects(copy=False) instead. To opt-in to the future behavior, set `pd.set_option('future.no_silent_downcasting', True)`\n",
      "  ).bfill()\n"
     ]
    },
    {
     "name": "stdout",
     "output_type": "stream",
     "text": [
      "Folder path: C:/Users/jda/Desktop/Hvidovre IF - Silkeborg IF/python/data/!Processed/VFF_LBK\n",
      "Extracted number: 2367339\n"
     ]
    },
    {
     "name": "stderr",
     "output_type": "stream",
     "text": [
      "c:\\Users\\jda\\Desktop\\Hvidovre IF - Silkeborg IF\\python\\myenv-3.11\\Lib\\site-packages\\socceraction\\spadl\\opta.py:242: FutureWarning: Downcasting object dtype arrays on .fillna, .ffill, .bfill is deprecated and will change in a future version. Call result.infer_objects(copy=False) instead. To opt-in to the future behavior, set `pd.set_option('future.no_silent_downcasting', True)`\n",
      "  ).bfill()\n"
     ]
    },
    {
     "name": "stdout",
     "output_type": "stream",
     "text": [
      "Folder path: C:/Users/jda/Desktop/Hvidovre IF - Silkeborg IF/python/data/!Processed/VFF_OB\n",
      "Extracted number: 2367440\n"
     ]
    },
    {
     "name": "stderr",
     "output_type": "stream",
     "text": [
      "c:\\Users\\jda\\Desktop\\Hvidovre IF - Silkeborg IF\\python\\myenv-3.11\\Lib\\site-packages\\socceraction\\spadl\\opta.py:242: FutureWarning: Downcasting object dtype arrays on .fillna, .ffill, .bfill is deprecated and will change in a future version. Call result.infer_objects(copy=False) instead. To opt-in to the future behavior, set `pd.set_option('future.no_silent_downcasting', True)`\n",
      "  ).bfill()\n"
     ]
    },
    {
     "name": "stdout",
     "output_type": "stream",
     "text": [
      "Folder path: C:/Users/jda/Desktop/Hvidovre IF - Silkeborg IF/python/data/!Processed/VFF_RFC\n",
      "Extracted number: 2367452\n"
     ]
    },
    {
     "name": "stderr",
     "output_type": "stream",
     "text": [
      "c:\\Users\\jda\\Desktop\\Hvidovre IF - Silkeborg IF\\python\\myenv-3.11\\Lib\\site-packages\\socceraction\\spadl\\opta.py:242: FutureWarning: Downcasting object dtype arrays on .fillna, .ffill, .bfill is deprecated and will change in a future version. Call result.infer_objects(copy=False) instead. To opt-in to the future behavior, set `pd.set_option('future.no_silent_downcasting', True)`\n",
      "  ).bfill()\n"
     ]
    },
    {
     "name": "stdout",
     "output_type": "stream",
     "text": [
      "Folder path: C:/Users/jda/Desktop/Hvidovre IF - Silkeborg IF/python/data/!Processed/VFF_SIF\n",
      "Extracted number: 2367416\n"
     ]
    },
    {
     "name": "stderr",
     "output_type": "stream",
     "text": [
      "c:\\Users\\jda\\Desktop\\Hvidovre IF - Silkeborg IF\\python\\myenv-3.11\\Lib\\site-packages\\socceraction\\spadl\\opta.py:242: FutureWarning: Downcasting object dtype arrays on .fillna, .ffill, .bfill is deprecated and will change in a future version. Call result.infer_objects(copy=False) instead. To opt-in to the future behavior, set `pd.set_option('future.no_silent_downcasting', True)`\n",
      "  ).bfill()\n"
     ]
    },
    {
     "name": "stdout",
     "output_type": "stream",
     "text": [
      "Folder path: C:/Users/jda/Desktop/Hvidovre IF - Silkeborg IF/python/data/!Processed/VFF_VB\n",
      "Extracted number: 2367362\n"
     ]
    },
    {
     "name": "stderr",
     "output_type": "stream",
     "text": [
      "c:\\Users\\jda\\Desktop\\Hvidovre IF - Silkeborg IF\\python\\myenv-3.11\\Lib\\site-packages\\socceraction\\spadl\\opta.py:242: FutureWarning: Downcasting object dtype arrays on .fillna, .ffill, .bfill is deprecated and will change in a future version. Call result.infer_objects(copy=False) instead. To opt-in to the future behavior, set `pd.set_option('future.no_silent_downcasting', True)`\n",
      "  ).bfill()\n"
     ]
    }
   ],
   "source": [
    "import pandas as pd\n",
    "from socceraction.data.opta import OptaLoader, parsers\n",
    "import socceraction.spadl as spadl\n",
    "import socceraction.xthreat as xthreat\n",
    "import os\n",
    "import re\n",
    "from loadFiles import loadFiles\n",
    "# 1. Load a set of actions to train the model on\n",
    "action = pd.DataFrame()\n",
    "folder_path = \"C:/Users/jda/Desktop/Hvidovre IF - Silkeborg IF/python/data/!Processed\"\n",
    "files_in_folder = os.listdir(folder_path)\n",
    "for file in files_in_folder:        \n",
    "    parts = file.split('_')\n",
    "    Home =  parts[0]\n",
    "    Away = parts[1]                \n",
    "    matched_files = loadFiles(Home, Away, \"!Processed\")\n",
    "    metadata = matched_files[\"metadata\"]\n",
    "    rawdata = matched_files[\"raw\"]\n",
    "    additional_metadata =  matched_files[\"additionalMetaData\"]\n",
    "    f7 =  matched_files[\"f7\"]\n",
    "    f24 =  matched_files[\"f24\"]\n",
    "    match = re.search(r'(\\d+)-eventdetails.xml$', f24)\n",
    "    if match:\n",
    "        # Extract the number from the match\n",
    "        match_id = int(match.group(1))\n",
    "        print(f\"Extracted number: {match_id}\")\n",
    "    else:\n",
    "        print(\"No match found\")\n",
    "\n",
    "    api = OptaLoader(\n",
    "        root = f\"C:/Users/jda/Desktop/Hvidovre IF - Silkeborg IF/python/data/!Processed/{Home}_{Away}\",\n",
    "        feeds={\n",
    "            \"f7\": f7,\n",
    "            \"f24\": f24\n",
    "        },\n",
    "        parser={\n",
    "            \"f7\": parsers.F7XMLParser,  # Use the F7XMLParser for parsing f7 feed files\n",
    "            \"f24\": parsers.F24XMLParser  # Use the F24XMLParser for parsing f24 feed files\n",
    "        }\n",
    "    )\n",
    "    \n",
    "    # Get events\n",
    "    events = api.events(match_id)\n",
    "    \n",
    "    # Convert actions to SPADL\n",
    "    df_actions = spadl.opta.convert_to_actions(events, 1)\n",
    "    \n",
    "    # Merge names for teams and players\n",
    "    df_actions = (spadl.add_names(df_actions)\n",
    "                  .merge(api.teams(match_id).merge(api.players(match_id))))\n",
    "    action = pd.concat([action, df_actions], ignore_index=True)\n"
   ]
  },
  {
   "cell_type": "code",
   "execution_count": 20,
   "metadata": {},
   "outputs": [],
   "source": [
    "action.to_excel(\"C:/Users/jda/Desktop/Hvidovre IF - Silkeborg IF/python/data/!Processed/Actions.xlsx\", index=False)"
   ]
  },
  {
   "cell_type": "code",
   "execution_count": 19,
   "metadata": {},
   "outputs": [
    {
     "ename": "IntCastingNaNError",
     "evalue": "Cannot convert non-finite values (NA or inf) to integer",
     "output_type": "error",
     "traceback": [
      "\u001b[31m---------------------------------------------------------------------------\u001b[39m",
      "\u001b[31mIntCastingNaNError\u001b[39m                        Traceback (most recent call last)",
      "\u001b[36mCell\u001b[39m\u001b[36m \u001b[39m\u001b[32mIn[19]\u001b[39m\u001b[32m, line 2\u001b[39m\n\u001b[32m      1\u001b[39m xTModel = xthreat.ExpectedThreat(l=\u001b[32m16\u001b[39m, w=\u001b[32m12\u001b[39m)\n\u001b[32m----> \u001b[39m\u001b[32m2\u001b[39m \u001b[43mxTModel\u001b[49m\u001b[43m.\u001b[49m\u001b[43mfit\u001b[49m\u001b[43m(\u001b[49m\u001b[43maction\u001b[49m\u001b[43m)\u001b[49m\n",
      "\u001b[36mFile \u001b[39m\u001b[32mc:\\Users\\jda\\Desktop\\Hvidovre IF - Silkeborg IF\\python\\myenv-3.11\\Lib\\site-packages\\socceraction\\xthreat.py:337\u001b[39m, in \u001b[36mExpectedThreat.fit\u001b[39m\u001b[34m(self, actions)\u001b[39m\n\u001b[32m    335\u001b[39m \u001b[38;5;28mself\u001b[39m.scoring_prob_matrix = scoring_prob(actions, \u001b[38;5;28mself\u001b[39m.l, \u001b[38;5;28mself\u001b[39m.w)\n\u001b[32m    336\u001b[39m \u001b[38;5;28mself\u001b[39m.shot_prob_matrix, \u001b[38;5;28mself\u001b[39m.move_prob_matrix = action_prob(actions, \u001b[38;5;28mself\u001b[39m.l, \u001b[38;5;28mself\u001b[39m.w)\n\u001b[32m--> \u001b[39m\u001b[32m337\u001b[39m \u001b[38;5;28mself\u001b[39m.transition_matrix = \u001b[43mmove_transition_matrix\u001b[49m\u001b[43m(\u001b[49m\u001b[43mactions\u001b[49m\u001b[43m,\u001b[49m\u001b[43m \u001b[49m\u001b[38;5;28;43mself\u001b[39;49m\u001b[43m.\u001b[49m\u001b[43ml\u001b[49m\u001b[43m,\u001b[49m\u001b[43m \u001b[49m\u001b[38;5;28;43mself\u001b[39;49m\u001b[43m.\u001b[49m\u001b[43mw\u001b[49m\u001b[43m)\u001b[49m\n\u001b[32m    338\u001b[39m \u001b[38;5;28mself\u001b[39m.xT = np.zeros((\u001b[38;5;28mself\u001b[39m.w, \u001b[38;5;28mself\u001b[39m.l))\n\u001b[32m    339\u001b[39m \u001b[38;5;28mself\u001b[39m.__solve(\n\u001b[32m    340\u001b[39m     \u001b[38;5;28mself\u001b[39m.scoring_prob_matrix,\n\u001b[32m    341\u001b[39m     \u001b[38;5;28mself\u001b[39m.shot_prob_matrix,\n\u001b[32m    342\u001b[39m     \u001b[38;5;28mself\u001b[39m.move_prob_matrix,\n\u001b[32m    343\u001b[39m     \u001b[38;5;28mself\u001b[39m.transition_matrix,\n\u001b[32m    344\u001b[39m )\n",
      "\u001b[36mFile \u001b[39m\u001b[32mc:\\Users\\jda\\Desktop\\Hvidovre IF - Silkeborg IF\\python\\myenv-3.11\\Lib\\site-packages\\socceraction\\xthreat.py:203\u001b[39m, in \u001b[36mmove_transition_matrix\u001b[39m\u001b[34m(actions, l, w)\u001b[39m\n\u001b[32m    201\u001b[39m X = pd.DataFrame()\n\u001b[32m    202\u001b[39m X[\u001b[33m\"\u001b[39m\u001b[33mstart_cell\u001b[39m\u001b[33m\"\u001b[39m] = _get_flat_indexes(move_actions.start_x, move_actions.start_y, l, w)\n\u001b[32m--> \u001b[39m\u001b[32m203\u001b[39m X[\u001b[33m\"\u001b[39m\u001b[33mend_cell\u001b[39m\u001b[33m\"\u001b[39m] = \u001b[43m_get_flat_indexes\u001b[49m\u001b[43m(\u001b[49m\u001b[43mmove_actions\u001b[49m\u001b[43m.\u001b[49m\u001b[43mend_x\u001b[49m\u001b[43m,\u001b[49m\u001b[43m \u001b[49m\u001b[43mmove_actions\u001b[49m\u001b[43m.\u001b[49m\u001b[43mend_y\u001b[49m\u001b[43m,\u001b[49m\u001b[43m \u001b[49m\u001b[43ml\u001b[49m\u001b[43m,\u001b[49m\u001b[43m \u001b[49m\u001b[43mw\u001b[49m\u001b[43m)\u001b[49m\n\u001b[32m    204\u001b[39m X[\u001b[33m\"\u001b[39m\u001b[33mresult_id\u001b[39m\u001b[33m\"\u001b[39m] = move_actions.result_id\n\u001b[32m    206\u001b[39m vc = X.start_cell.value_counts(sort=\u001b[38;5;28;01mFalse\u001b[39;00m)\n",
      "\u001b[36mFile \u001b[39m\u001b[32mc:\\Users\\jda\\Desktop\\Hvidovre IF - Silkeborg IF\\python\\myenv-3.11\\Lib\\site-packages\\socceraction\\xthreat.py:36\u001b[39m, in \u001b[36m_get_flat_indexes\u001b[39m\u001b[34m(x, y, l, w)\u001b[39m\n\u001b[32m     35\u001b[39m \u001b[38;5;28;01mdef\u001b[39;00m\u001b[38;5;250m \u001b[39m\u001b[34m_get_flat_indexes\u001b[39m(x: Series[\u001b[38;5;28mfloat\u001b[39m], y: Series[\u001b[38;5;28mfloat\u001b[39m], l: \u001b[38;5;28mint\u001b[39m = N, w: \u001b[38;5;28mint\u001b[39m = M) -> Series[\u001b[38;5;28mint\u001b[39m]:\n\u001b[32m---> \u001b[39m\u001b[32m36\u001b[39m     xi, yj = \u001b[43m_get_cell_indexes\u001b[49m\u001b[43m(\u001b[49m\u001b[43mx\u001b[49m\u001b[43m,\u001b[49m\u001b[43m \u001b[49m\u001b[43my\u001b[49m\u001b[43m,\u001b[49m\u001b[43m \u001b[49m\u001b[43ml\u001b[49m\u001b[43m,\u001b[49m\u001b[43m \u001b[49m\u001b[43mw\u001b[49m\u001b[43m)\u001b[49m\n\u001b[32m     37\u001b[39m     \u001b[38;5;28;01mreturn\u001b[39;00m yj.rsub(w - \u001b[32m1\u001b[39m).mul(l).add(xi)\n",
      "\u001b[36mFile \u001b[39m\u001b[32mc:\\Users\\jda\\Desktop\\Hvidovre IF - Silkeborg IF\\python\\myenv-3.11\\Lib\\site-packages\\socceraction\\xthreat.py:30\u001b[39m, in \u001b[36m_get_cell_indexes\u001b[39m\u001b[34m(x, y, l, w)\u001b[39m\n\u001b[32m     28\u001b[39m xi = x.divide(spadlconfig.field_length).multiply(l)\n\u001b[32m     29\u001b[39m yj = y.divide(spadlconfig.field_width).multiply(w)\n\u001b[32m---> \u001b[39m\u001b[32m30\u001b[39m xi = \u001b[43mxi\u001b[49m\u001b[43m.\u001b[49m\u001b[43mastype\u001b[49m\u001b[43m(\u001b[49m\u001b[33;43m\"\u001b[39;49m\u001b[33;43mint64\u001b[39;49m\u001b[33;43m\"\u001b[39;49m\u001b[43m)\u001b[49m.clip(\u001b[32m0\u001b[39m, l - \u001b[32m1\u001b[39m)\n\u001b[32m     31\u001b[39m yj = yj.astype(\u001b[33m\"\u001b[39m\u001b[33mint64\u001b[39m\u001b[33m\"\u001b[39m).clip(\u001b[32m0\u001b[39m, w - \u001b[32m1\u001b[39m)\n\u001b[32m     32\u001b[39m \u001b[38;5;28;01mreturn\u001b[39;00m xi, yj\n",
      "\u001b[36mFile \u001b[39m\u001b[32mc:\\Users\\jda\\Desktop\\Hvidovre IF - Silkeborg IF\\python\\myenv-3.11\\Lib\\site-packages\\pandas\\core\\generic.py:6643\u001b[39m, in \u001b[36mNDFrame.astype\u001b[39m\u001b[34m(self, dtype, copy, errors)\u001b[39m\n\u001b[32m   6637\u001b[39m     results = [\n\u001b[32m   6638\u001b[39m         ser.astype(dtype, copy=copy, errors=errors) \u001b[38;5;28;01mfor\u001b[39;00m _, ser \u001b[38;5;129;01min\u001b[39;00m \u001b[38;5;28mself\u001b[39m.items()\n\u001b[32m   6639\u001b[39m     ]\n\u001b[32m   6641\u001b[39m \u001b[38;5;28;01melse\u001b[39;00m:\n\u001b[32m   6642\u001b[39m     \u001b[38;5;66;03m# else, only a single dtype is given\u001b[39;00m\n\u001b[32m-> \u001b[39m\u001b[32m6643\u001b[39m     new_data = \u001b[38;5;28;43mself\u001b[39;49m\u001b[43m.\u001b[49m\u001b[43m_mgr\u001b[49m\u001b[43m.\u001b[49m\u001b[43mastype\u001b[49m\u001b[43m(\u001b[49m\u001b[43mdtype\u001b[49m\u001b[43m=\u001b[49m\u001b[43mdtype\u001b[49m\u001b[43m,\u001b[49m\u001b[43m \u001b[49m\u001b[43mcopy\u001b[49m\u001b[43m=\u001b[49m\u001b[43mcopy\u001b[49m\u001b[43m,\u001b[49m\u001b[43m \u001b[49m\u001b[43merrors\u001b[49m\u001b[43m=\u001b[49m\u001b[43merrors\u001b[49m\u001b[43m)\u001b[49m\n\u001b[32m   6644\u001b[39m     res = \u001b[38;5;28mself\u001b[39m._constructor_from_mgr(new_data, axes=new_data.axes)\n\u001b[32m   6645\u001b[39m     \u001b[38;5;28;01mreturn\u001b[39;00m res.__finalize__(\u001b[38;5;28mself\u001b[39m, method=\u001b[33m\"\u001b[39m\u001b[33mastype\u001b[39m\u001b[33m\"\u001b[39m)\n",
      "\u001b[36mFile \u001b[39m\u001b[32mc:\\Users\\jda\\Desktop\\Hvidovre IF - Silkeborg IF\\python\\myenv-3.11\\Lib\\site-packages\\pandas\\core\\internals\\managers.py:430\u001b[39m, in \u001b[36mBaseBlockManager.astype\u001b[39m\u001b[34m(self, dtype, copy, errors)\u001b[39m\n\u001b[32m    427\u001b[39m \u001b[38;5;28;01melif\u001b[39;00m using_copy_on_write():\n\u001b[32m    428\u001b[39m     copy = \u001b[38;5;28;01mFalse\u001b[39;00m\n\u001b[32m--> \u001b[39m\u001b[32m430\u001b[39m \u001b[38;5;28;01mreturn\u001b[39;00m \u001b[38;5;28;43mself\u001b[39;49m\u001b[43m.\u001b[49m\u001b[43mapply\u001b[49m\u001b[43m(\u001b[49m\n\u001b[32m    431\u001b[39m \u001b[43m    \u001b[49m\u001b[33;43m\"\u001b[39;49m\u001b[33;43mastype\u001b[39;49m\u001b[33;43m\"\u001b[39;49m\u001b[43m,\u001b[49m\n\u001b[32m    432\u001b[39m \u001b[43m    \u001b[49m\u001b[43mdtype\u001b[49m\u001b[43m=\u001b[49m\u001b[43mdtype\u001b[49m\u001b[43m,\u001b[49m\n\u001b[32m    433\u001b[39m \u001b[43m    \u001b[49m\u001b[43mcopy\u001b[49m\u001b[43m=\u001b[49m\u001b[43mcopy\u001b[49m\u001b[43m,\u001b[49m\n\u001b[32m    434\u001b[39m \u001b[43m    \u001b[49m\u001b[43merrors\u001b[49m\u001b[43m=\u001b[49m\u001b[43merrors\u001b[49m\u001b[43m,\u001b[49m\n\u001b[32m    435\u001b[39m \u001b[43m    \u001b[49m\u001b[43musing_cow\u001b[49m\u001b[43m=\u001b[49m\u001b[43musing_copy_on_write\u001b[49m\u001b[43m(\u001b[49m\u001b[43m)\u001b[49m\u001b[43m,\u001b[49m\n\u001b[32m    436\u001b[39m \u001b[43m\u001b[49m\u001b[43m)\u001b[49m\n",
      "\u001b[36mFile \u001b[39m\u001b[32mc:\\Users\\jda\\Desktop\\Hvidovre IF - Silkeborg IF\\python\\myenv-3.11\\Lib\\site-packages\\pandas\\core\\internals\\managers.py:363\u001b[39m, in \u001b[36mBaseBlockManager.apply\u001b[39m\u001b[34m(self, f, align_keys, **kwargs)\u001b[39m\n\u001b[32m    361\u001b[39m         applied = b.apply(f, **kwargs)\n\u001b[32m    362\u001b[39m     \u001b[38;5;28;01melse\u001b[39;00m:\n\u001b[32m--> \u001b[39m\u001b[32m363\u001b[39m         applied = \u001b[38;5;28;43mgetattr\u001b[39;49m\u001b[43m(\u001b[49m\u001b[43mb\u001b[49m\u001b[43m,\u001b[49m\u001b[43m \u001b[49m\u001b[43mf\u001b[49m\u001b[43m)\u001b[49m\u001b[43m(\u001b[49m\u001b[43m*\u001b[49m\u001b[43m*\u001b[49m\u001b[43mkwargs\u001b[49m\u001b[43m)\u001b[49m\n\u001b[32m    364\u001b[39m     result_blocks = extend_blocks(applied, result_blocks)\n\u001b[32m    366\u001b[39m out = \u001b[38;5;28mtype\u001b[39m(\u001b[38;5;28mself\u001b[39m).from_blocks(result_blocks, \u001b[38;5;28mself\u001b[39m.axes)\n",
      "\u001b[36mFile \u001b[39m\u001b[32mc:\\Users\\jda\\Desktop\\Hvidovre IF - Silkeborg IF\\python\\myenv-3.11\\Lib\\site-packages\\pandas\\core\\internals\\blocks.py:758\u001b[39m, in \u001b[36mBlock.astype\u001b[39m\u001b[34m(self, dtype, copy, errors, using_cow, squeeze)\u001b[39m\n\u001b[32m    755\u001b[39m         \u001b[38;5;28;01mraise\u001b[39;00m \u001b[38;5;167;01mValueError\u001b[39;00m(\u001b[33m\"\u001b[39m\u001b[33mCan not squeeze with more than one column.\u001b[39m\u001b[33m\"\u001b[39m)\n\u001b[32m    756\u001b[39m     values = values[\u001b[32m0\u001b[39m, :]  \u001b[38;5;66;03m# type: ignore[call-overload]\u001b[39;00m\n\u001b[32m--> \u001b[39m\u001b[32m758\u001b[39m new_values = \u001b[43mastype_array_safe\u001b[49m\u001b[43m(\u001b[49m\u001b[43mvalues\u001b[49m\u001b[43m,\u001b[49m\u001b[43m \u001b[49m\u001b[43mdtype\u001b[49m\u001b[43m,\u001b[49m\u001b[43m \u001b[49m\u001b[43mcopy\u001b[49m\u001b[43m=\u001b[49m\u001b[43mcopy\u001b[49m\u001b[43m,\u001b[49m\u001b[43m \u001b[49m\u001b[43merrors\u001b[49m\u001b[43m=\u001b[49m\u001b[43merrors\u001b[49m\u001b[43m)\u001b[49m\n\u001b[32m    760\u001b[39m new_values = maybe_coerce_values(new_values)\n\u001b[32m    762\u001b[39m refs = \u001b[38;5;28;01mNone\u001b[39;00m\n",
      "\u001b[36mFile \u001b[39m\u001b[32mc:\\Users\\jda\\Desktop\\Hvidovre IF - Silkeborg IF\\python\\myenv-3.11\\Lib\\site-packages\\pandas\\core\\dtypes\\astype.py:237\u001b[39m, in \u001b[36mastype_array_safe\u001b[39m\u001b[34m(values, dtype, copy, errors)\u001b[39m\n\u001b[32m    234\u001b[39m     dtype = dtype.numpy_dtype\n\u001b[32m    236\u001b[39m \u001b[38;5;28;01mtry\u001b[39;00m:\n\u001b[32m--> \u001b[39m\u001b[32m237\u001b[39m     new_values = \u001b[43mastype_array\u001b[49m\u001b[43m(\u001b[49m\u001b[43mvalues\u001b[49m\u001b[43m,\u001b[49m\u001b[43m \u001b[49m\u001b[43mdtype\u001b[49m\u001b[43m,\u001b[49m\u001b[43m \u001b[49m\u001b[43mcopy\u001b[49m\u001b[43m=\u001b[49m\u001b[43mcopy\u001b[49m\u001b[43m)\u001b[49m\n\u001b[32m    238\u001b[39m \u001b[38;5;28;01mexcept\u001b[39;00m (\u001b[38;5;167;01mValueError\u001b[39;00m, \u001b[38;5;167;01mTypeError\u001b[39;00m):\n\u001b[32m    239\u001b[39m     \u001b[38;5;66;03m# e.g. _astype_nansafe can fail on object-dtype of strings\u001b[39;00m\n\u001b[32m    240\u001b[39m     \u001b[38;5;66;03m#  trying to convert to float\u001b[39;00m\n\u001b[32m    241\u001b[39m     \u001b[38;5;28;01mif\u001b[39;00m errors == \u001b[33m\"\u001b[39m\u001b[33mignore\u001b[39m\u001b[33m\"\u001b[39m:\n",
      "\u001b[36mFile \u001b[39m\u001b[32mc:\\Users\\jda\\Desktop\\Hvidovre IF - Silkeborg IF\\python\\myenv-3.11\\Lib\\site-packages\\pandas\\core\\dtypes\\astype.py:182\u001b[39m, in \u001b[36mastype_array\u001b[39m\u001b[34m(values, dtype, copy)\u001b[39m\n\u001b[32m    179\u001b[39m     values = values.astype(dtype, copy=copy)\n\u001b[32m    181\u001b[39m \u001b[38;5;28;01melse\u001b[39;00m:\n\u001b[32m--> \u001b[39m\u001b[32m182\u001b[39m     values = \u001b[43m_astype_nansafe\u001b[49m\u001b[43m(\u001b[49m\u001b[43mvalues\u001b[49m\u001b[43m,\u001b[49m\u001b[43m \u001b[49m\u001b[43mdtype\u001b[49m\u001b[43m,\u001b[49m\u001b[43m \u001b[49m\u001b[43mcopy\u001b[49m\u001b[43m=\u001b[49m\u001b[43mcopy\u001b[49m\u001b[43m)\u001b[49m\n\u001b[32m    184\u001b[39m \u001b[38;5;66;03m# in pandas we don't store numpy str dtypes, so convert to object\u001b[39;00m\n\u001b[32m    185\u001b[39m \u001b[38;5;28;01mif\u001b[39;00m \u001b[38;5;28misinstance\u001b[39m(dtype, np.dtype) \u001b[38;5;129;01mand\u001b[39;00m \u001b[38;5;28missubclass\u001b[39m(values.dtype.type, \u001b[38;5;28mstr\u001b[39m):\n",
      "\u001b[36mFile \u001b[39m\u001b[32mc:\\Users\\jda\\Desktop\\Hvidovre IF - Silkeborg IF\\python\\myenv-3.11\\Lib\\site-packages\\pandas\\core\\dtypes\\astype.py:101\u001b[39m, in \u001b[36m_astype_nansafe\u001b[39m\u001b[34m(arr, dtype, copy, skipna)\u001b[39m\n\u001b[32m     96\u001b[39m     \u001b[38;5;28;01mreturn\u001b[39;00m lib.ensure_string_array(\n\u001b[32m     97\u001b[39m         arr, skipna=skipna, convert_na_value=\u001b[38;5;28;01mFalse\u001b[39;00m\n\u001b[32m     98\u001b[39m     ).reshape(shape)\n\u001b[32m    100\u001b[39m \u001b[38;5;28;01melif\u001b[39;00m np.issubdtype(arr.dtype, np.floating) \u001b[38;5;129;01mand\u001b[39;00m dtype.kind \u001b[38;5;129;01min\u001b[39;00m \u001b[33m\"\u001b[39m\u001b[33miu\u001b[39m\u001b[33m\"\u001b[39m:\n\u001b[32m--> \u001b[39m\u001b[32m101\u001b[39m     \u001b[38;5;28;01mreturn\u001b[39;00m \u001b[43m_astype_float_to_int_nansafe\u001b[49m\u001b[43m(\u001b[49m\u001b[43marr\u001b[49m\u001b[43m,\u001b[49m\u001b[43m \u001b[49m\u001b[43mdtype\u001b[49m\u001b[43m,\u001b[49m\u001b[43m \u001b[49m\u001b[43mcopy\u001b[49m\u001b[43m)\u001b[49m\n\u001b[32m    103\u001b[39m \u001b[38;5;28;01melif\u001b[39;00m arr.dtype == \u001b[38;5;28mobject\u001b[39m:\n\u001b[32m    104\u001b[39m     \u001b[38;5;66;03m# if we have a datetime/timedelta array of objects\u001b[39;00m\n\u001b[32m    105\u001b[39m     \u001b[38;5;66;03m# then coerce to datetime64[ns] and use DatetimeArray.astype\u001b[39;00m\n\u001b[32m    107\u001b[39m     \u001b[38;5;28;01mif\u001b[39;00m lib.is_np_dtype(dtype, \u001b[33m\"\u001b[39m\u001b[33mM\u001b[39m\u001b[33m\"\u001b[39m):\n",
      "\u001b[36mFile \u001b[39m\u001b[32mc:\\Users\\jda\\Desktop\\Hvidovre IF - Silkeborg IF\\python\\myenv-3.11\\Lib\\site-packages\\pandas\\core\\dtypes\\astype.py:145\u001b[39m, in \u001b[36m_astype_float_to_int_nansafe\u001b[39m\u001b[34m(values, dtype, copy)\u001b[39m\n\u001b[32m    141\u001b[39m \u001b[38;5;250m\u001b[39m\u001b[33;03m\"\"\"\u001b[39;00m\n\u001b[32m    142\u001b[39m \u001b[33;03mastype with a check preventing converting NaN to an meaningless integer value.\u001b[39;00m\n\u001b[32m    143\u001b[39m \u001b[33;03m\"\"\"\u001b[39;00m\n\u001b[32m    144\u001b[39m \u001b[38;5;28;01mif\u001b[39;00m \u001b[38;5;129;01mnot\u001b[39;00m np.isfinite(values).all():\n\u001b[32m--> \u001b[39m\u001b[32m145\u001b[39m     \u001b[38;5;28;01mraise\u001b[39;00m IntCastingNaNError(\n\u001b[32m    146\u001b[39m         \u001b[33m\"\u001b[39m\u001b[33mCannot convert non-finite values (NA or inf) to integer\u001b[39m\u001b[33m\"\u001b[39m\n\u001b[32m    147\u001b[39m     )\n\u001b[32m    148\u001b[39m \u001b[38;5;28;01mif\u001b[39;00m dtype.kind == \u001b[33m\"\u001b[39m\u001b[33mu\u001b[39m\u001b[33m\"\u001b[39m:\n\u001b[32m    149\u001b[39m     \u001b[38;5;66;03m# GH#45151\u001b[39;00m\n\u001b[32m    150\u001b[39m     \u001b[38;5;28;01mif\u001b[39;00m \u001b[38;5;129;01mnot\u001b[39;00m (values >= \u001b[32m0\u001b[39m).all():\n",
      "\u001b[31mIntCastingNaNError\u001b[39m: Cannot convert non-finite values (NA or inf) to integer"
     ]
    }
   ],
   "source": [
    "xTModel = xthreat.ExpectedThreat(l=16, w=12)\n",
    "xTModel.fit(action)"
   ]
  },
  {
   "cell_type": "code",
   "execution_count": null,
   "metadata": {},
   "outputs": [],
   "source": [
    "df_mov_actions = xthreat.get_successful_move_actions(df_actions)\n",
    "df_mov_actions[\"xT_value\"] = xTModel.rate(df_mov_actions)\n",
    "df_mov_actions"
   ]
  },
  {
   "cell_type": "code",
   "execution_count": 11,
   "metadata": {},
   "outputs": [],
   "source": [
    "df_mov_players = df_mov_actions.groupby(\"player_id\").agg({\n",
    "    \"player_name\": \"first\",\n",
    "    \"xT_value\": \"sum\"\n",
    "}).reset_index()\n"
   ]
  },
  {
   "cell_type": "code",
   "execution_count": 12,
   "metadata": {},
   "outputs": [
    {
     "data": {
      "application/vnd.microsoft.datawrangler.viewer.v0+json": {
       "columns": [
        {
         "name": "index",
         "rawType": "int64",
         "type": "integer"
        },
        {
         "name": "player_id",
         "rawType": "float64",
         "type": "float"
        },
        {
         "name": "player_name",
         "rawType": "object",
         "type": "string"
        },
        {
         "name": "xT_value",
         "rawType": "float64",
         "type": "float"
        }
       ],
       "conversionMethod": "pd.DataFrame",
       "ref": "7a0e9af3-ad88-43fd-a2d4-a44421358f3a",
       "rows": [
        [
         "3",
         "116607.0",
         "Gilli Rólantsson",
         "0.6248117095952871"
        ],
        [
         "26",
         "543224.0",
         "Anosike Ementa",
         "0.5788233314711222"
        ],
        [
         "28",
         "544773.0",
         "Renato Barbosa dos Santos Júnior",
         "0.340701891083276"
        ],
        [
         "15",
         "457221.0",
         "Zan Zaletel",
         "0.3353785882275678"
        ],
        [
         "7",
         "174793.0",
         "Stefan Velkov",
         "0.21823431067162646"
        ],
        [
         "8",
         "192249.0",
         "Nicolas Bürgy",
         "0.14344008081778806"
        ],
        [
         "11",
         "233645.0",
         "Jamie Jacobs",
         "0.14284604092714365"
        ],
        [
         "6",
         "169537.0",
         "Hamza Barry",
         "0.1399074421880899"
        ],
        [
         "0",
         "61758.0",
         "Miiko Albornoz",
         "0.12410420707441971"
        ],
        [
         "22",
         "492993.0",
         "Sérgio Pereira Andrade",
         "0.11556820609907521"
        ],
        [
         "5",
         "165922.0",
         "Jeppe Grønning",
         "0.090969023460606"
        ],
        [
         "12",
         "449395.0",
         "Magnus Westergaard",
         "0.08543678112123511"
        ],
        [
         "21",
         "485427.0",
         "Oliver Bundgaard",
         "0.07361402179548623"
        ],
        [
         "25",
         "519889.0",
         "Marius Elvius",
         "0.057125904964309915"
        ],
        [
         "10",
         "232398.0",
         "Nathan Trott",
         "0.04704232704200489"
        ],
        [
         "1",
         "82773.0",
         "Azer Busuladzic",
         "0.046270129290731404"
        ],
        [
         "20",
         "485355.0",
         "Jakob Bonde",
         "0.03576120961383165"
        ],
        [
         "19",
         "481406.0",
         "Lucas Lund",
         "0.033279082370783405"
        ],
        [
         "24",
         "497891.0",
         "Oliver Provstgaard",
         "0.028306868291417004"
        ],
        [
         "13",
         "450074.0",
         "Nigel Thomas",
         "0.02500215463792587"
        ],
        [
         "18",
         "480467.0",
         "Jasin-Amin Assehnoun",
         "0.014137084612397368"
        ],
        [
         "29",
         "586774.0",
         "Tobias Lauritsen",
         "0.013891333963096698"
        ],
        [
         "14",
         "457214.0",
         "German Onugkha",
         "0.01226813739221519"
        ],
        [
         "9",
         "227701.0",
         "Daniel Anyembe",
         "-0.013438280979955954"
        ],
        [
         "4",
         "164489.0",
         "Ebenezer Ofori",
         "-0.018930779195511588"
        ],
        [
         "16",
         "462538.0",
         "Musa Juwara",
         "-0.04854301900529842"
        ],
        [
         "23",
         "495068.0",
         "Ibrahim Said",
         "-0.049263291673158974"
        ],
        [
         "27",
         "543276.0",
         "Mads Søndergaard",
         "-0.07363857279581904"
        ],
        [
         "2",
         "83978.0",
         "Raúl Albentosa",
         "-0.16872262202534694"
        ],
        [
         "17",
         "469334.0",
         "Kristian Kirkegaard",
         "-0.2761454701651177"
        ]
       ],
       "shape": {
        "columns": 3,
        "rows": 30
       }
      },
      "text/html": [
       "<div>\n",
       "<style scoped>\n",
       "    .dataframe tbody tr th:only-of-type {\n",
       "        vertical-align: middle;\n",
       "    }\n",
       "\n",
       "    .dataframe tbody tr th {\n",
       "        vertical-align: top;\n",
       "    }\n",
       "\n",
       "    .dataframe thead th {\n",
       "        text-align: right;\n",
       "    }\n",
       "</style>\n",
       "<table border=\"1\" class=\"dataframe\">\n",
       "  <thead>\n",
       "    <tr style=\"text-align: right;\">\n",
       "      <th></th>\n",
       "      <th>player_id</th>\n",
       "      <th>player_name</th>\n",
       "      <th>xT_value</th>\n",
       "    </tr>\n",
       "  </thead>\n",
       "  <tbody>\n",
       "    <tr>\n",
       "      <th>3</th>\n",
       "      <td>116607.0</td>\n",
       "      <td>Gilli Rólantsson</td>\n",
       "      <td>0.624812</td>\n",
       "    </tr>\n",
       "    <tr>\n",
       "      <th>26</th>\n",
       "      <td>543224.0</td>\n",
       "      <td>Anosike Ementa</td>\n",
       "      <td>0.578823</td>\n",
       "    </tr>\n",
       "    <tr>\n",
       "      <th>28</th>\n",
       "      <td>544773.0</td>\n",
       "      <td>Renato Barbosa dos Santos Júnior</td>\n",
       "      <td>0.340702</td>\n",
       "    </tr>\n",
       "    <tr>\n",
       "      <th>15</th>\n",
       "      <td>457221.0</td>\n",
       "      <td>Zan Zaletel</td>\n",
       "      <td>0.335379</td>\n",
       "    </tr>\n",
       "    <tr>\n",
       "      <th>7</th>\n",
       "      <td>174793.0</td>\n",
       "      <td>Stefan Velkov</td>\n",
       "      <td>0.218234</td>\n",
       "    </tr>\n",
       "    <tr>\n",
       "      <th>8</th>\n",
       "      <td>192249.0</td>\n",
       "      <td>Nicolas Bürgy</td>\n",
       "      <td>0.143440</td>\n",
       "    </tr>\n",
       "    <tr>\n",
       "      <th>11</th>\n",
       "      <td>233645.0</td>\n",
       "      <td>Jamie Jacobs</td>\n",
       "      <td>0.142846</td>\n",
       "    </tr>\n",
       "    <tr>\n",
       "      <th>6</th>\n",
       "      <td>169537.0</td>\n",
       "      <td>Hamza Barry</td>\n",
       "      <td>0.139907</td>\n",
       "    </tr>\n",
       "    <tr>\n",
       "      <th>0</th>\n",
       "      <td>61758.0</td>\n",
       "      <td>Miiko Albornoz</td>\n",
       "      <td>0.124104</td>\n",
       "    </tr>\n",
       "    <tr>\n",
       "      <th>22</th>\n",
       "      <td>492993.0</td>\n",
       "      <td>Sérgio Pereira Andrade</td>\n",
       "      <td>0.115568</td>\n",
       "    </tr>\n",
       "    <tr>\n",
       "      <th>5</th>\n",
       "      <td>165922.0</td>\n",
       "      <td>Jeppe Grønning</td>\n",
       "      <td>0.090969</td>\n",
       "    </tr>\n",
       "    <tr>\n",
       "      <th>12</th>\n",
       "      <td>449395.0</td>\n",
       "      <td>Magnus Westergaard</td>\n",
       "      <td>0.085437</td>\n",
       "    </tr>\n",
       "    <tr>\n",
       "      <th>21</th>\n",
       "      <td>485427.0</td>\n",
       "      <td>Oliver Bundgaard</td>\n",
       "      <td>0.073614</td>\n",
       "    </tr>\n",
       "    <tr>\n",
       "      <th>25</th>\n",
       "      <td>519889.0</td>\n",
       "      <td>Marius Elvius</td>\n",
       "      <td>0.057126</td>\n",
       "    </tr>\n",
       "    <tr>\n",
       "      <th>10</th>\n",
       "      <td>232398.0</td>\n",
       "      <td>Nathan Trott</td>\n",
       "      <td>0.047042</td>\n",
       "    </tr>\n",
       "    <tr>\n",
       "      <th>1</th>\n",
       "      <td>82773.0</td>\n",
       "      <td>Azer Busuladzic</td>\n",
       "      <td>0.046270</td>\n",
       "    </tr>\n",
       "    <tr>\n",
       "      <th>20</th>\n",
       "      <td>485355.0</td>\n",
       "      <td>Jakob Bonde</td>\n",
       "      <td>0.035761</td>\n",
       "    </tr>\n",
       "    <tr>\n",
       "      <th>19</th>\n",
       "      <td>481406.0</td>\n",
       "      <td>Lucas Lund</td>\n",
       "      <td>0.033279</td>\n",
       "    </tr>\n",
       "    <tr>\n",
       "      <th>24</th>\n",
       "      <td>497891.0</td>\n",
       "      <td>Oliver Provstgaard</td>\n",
       "      <td>0.028307</td>\n",
       "    </tr>\n",
       "    <tr>\n",
       "      <th>13</th>\n",
       "      <td>450074.0</td>\n",
       "      <td>Nigel Thomas</td>\n",
       "      <td>0.025002</td>\n",
       "    </tr>\n",
       "    <tr>\n",
       "      <th>18</th>\n",
       "      <td>480467.0</td>\n",
       "      <td>Jasin-Amin Assehnoun</td>\n",
       "      <td>0.014137</td>\n",
       "    </tr>\n",
       "    <tr>\n",
       "      <th>29</th>\n",
       "      <td>586774.0</td>\n",
       "      <td>Tobias Lauritsen</td>\n",
       "      <td>0.013891</td>\n",
       "    </tr>\n",
       "    <tr>\n",
       "      <th>14</th>\n",
       "      <td>457214.0</td>\n",
       "      <td>German Onugkha</td>\n",
       "      <td>0.012268</td>\n",
       "    </tr>\n",
       "    <tr>\n",
       "      <th>9</th>\n",
       "      <td>227701.0</td>\n",
       "      <td>Daniel Anyembe</td>\n",
       "      <td>-0.013438</td>\n",
       "    </tr>\n",
       "    <tr>\n",
       "      <th>4</th>\n",
       "      <td>164489.0</td>\n",
       "      <td>Ebenezer Ofori</td>\n",
       "      <td>-0.018931</td>\n",
       "    </tr>\n",
       "    <tr>\n",
       "      <th>16</th>\n",
       "      <td>462538.0</td>\n",
       "      <td>Musa Juwara</td>\n",
       "      <td>-0.048543</td>\n",
       "    </tr>\n",
       "    <tr>\n",
       "      <th>23</th>\n",
       "      <td>495068.0</td>\n",
       "      <td>Ibrahim Said</td>\n",
       "      <td>-0.049263</td>\n",
       "    </tr>\n",
       "    <tr>\n",
       "      <th>27</th>\n",
       "      <td>543276.0</td>\n",
       "      <td>Mads Søndergaard</td>\n",
       "      <td>-0.073639</td>\n",
       "    </tr>\n",
       "    <tr>\n",
       "      <th>2</th>\n",
       "      <td>83978.0</td>\n",
       "      <td>Raúl Albentosa</td>\n",
       "      <td>-0.168723</td>\n",
       "    </tr>\n",
       "    <tr>\n",
       "      <th>17</th>\n",
       "      <td>469334.0</td>\n",
       "      <td>Kristian Kirkegaard</td>\n",
       "      <td>-0.276145</td>\n",
       "    </tr>\n",
       "  </tbody>\n",
       "</table>\n",
       "</div>"
      ],
      "text/plain": [
       "    player_id                       player_name  xT_value\n",
       "3    116607.0                  Gilli Rólantsson  0.624812\n",
       "26   543224.0                    Anosike Ementa  0.578823\n",
       "28   544773.0  Renato Barbosa dos Santos Júnior  0.340702\n",
       "15   457221.0                       Zan Zaletel  0.335379\n",
       "7    174793.0                     Stefan Velkov  0.218234\n",
       "8    192249.0                     Nicolas Bürgy  0.143440\n",
       "11   233645.0                      Jamie Jacobs  0.142846\n",
       "6    169537.0                       Hamza Barry  0.139907\n",
       "0     61758.0                    Miiko Albornoz  0.124104\n",
       "22   492993.0            Sérgio Pereira Andrade  0.115568\n",
       "5    165922.0                    Jeppe Grønning  0.090969\n",
       "12   449395.0                Magnus Westergaard  0.085437\n",
       "21   485427.0                  Oliver Bundgaard  0.073614\n",
       "25   519889.0                     Marius Elvius  0.057126\n",
       "10   232398.0                      Nathan Trott  0.047042\n",
       "1     82773.0                   Azer Busuladzic  0.046270\n",
       "20   485355.0                       Jakob Bonde  0.035761\n",
       "19   481406.0                        Lucas Lund  0.033279\n",
       "24   497891.0                Oliver Provstgaard  0.028307\n",
       "13   450074.0                      Nigel Thomas  0.025002\n",
       "18   480467.0              Jasin-Amin Assehnoun  0.014137\n",
       "29   586774.0                  Tobias Lauritsen  0.013891\n",
       "14   457214.0                    German Onugkha  0.012268\n",
       "9    227701.0                    Daniel Anyembe -0.013438\n",
       "4    164489.0                    Ebenezer Ofori -0.018931\n",
       "16   462538.0                       Musa Juwara -0.048543\n",
       "23   495068.0                      Ibrahim Said -0.049263\n",
       "27   543276.0                  Mads Søndergaard -0.073639\n",
       "2     83978.0                    Raúl Albentosa -0.168723\n",
       "17   469334.0               Kristian Kirkegaard -0.276145"
      ]
     },
     "execution_count": 12,
     "metadata": {},
     "output_type": "execute_result"
    }
   ],
   "source": [
    "sorted_df_mov_players = df_mov_players.sort_values(\"xT_value\", ascending=False)\n",
    "sorted_df_mov_players "
   ]
  }
 ],
 "metadata": {
  "kernelspec": {
   "display_name": "myenv-3.11",
   "language": "python",
   "name": "python3"
  },
  "language_info": {
   "codemirror_mode": {
    "name": "ipython",
    "version": 3
   },
   "file_extension": ".py",
   "mimetype": "text/x-python",
   "name": "python",
   "nbconvert_exporter": "python",
   "pygments_lexer": "ipython3",
   "version": "3.11.9"
  }
 },
 "nbformat": 4,
 "nbformat_minor": 2
}
