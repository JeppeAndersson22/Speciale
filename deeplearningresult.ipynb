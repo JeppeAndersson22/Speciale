{
 "cells": [
  {
   "cell_type": "code",
   "execution_count": 67,
   "id": "026ada90",
   "metadata": {},
   "outputs": [],
   "source": [
    "import pandas as pd\n",
    "df = pd.read_csv('Riskv13.csv')"
   ]
  },
  {
   "cell_type": "code",
   "execution_count": 72,
   "id": "efc94b24",
   "metadata": {},
   "outputs": [],
   "source": [
    "pd.set_option('display.max_columns', None)  # show all columns\n",
    "pd.set_option('display.width', 200)         # adjust based on terminal width\n",
    "pd.set_option('display.float_format', '{:.3f}'.format)  # float precision"
   ]
  },
  {
   "cell_type": "code",
   "execution_count": 52,
   "id": "b3841f7f",
   "metadata": {},
   "outputs": [],
   "source": [
    "team = pd.read_csv('Alleactionsv2.csv')\n"
   ]
  },
  {
   "cell_type": "code",
   "execution_count": 54,
   "id": "50d204d4",
   "metadata": {},
   "outputs": [],
   "source": [
    "df = df.merge(team[['original_event_id', 'pass_length']], on='original_event_id', how='left')"
   ]
  },
  {
   "cell_type": "code",
   "execution_count": 55,
   "id": "17a5113e",
   "metadata": {},
   "outputs": [],
   "source": [
    "team = team.drop_duplicates(subset='player_id')\n",
    "df = df.merge(team[['player_id', 'team_name']], on='player_id', how='left')"
   ]
  },
  {
   "cell_type": "code",
   "execution_count": 57,
   "id": "0b31e099",
   "metadata": {},
   "outputs": [],
   "source": [
    "result = df[['original_event_id', 'player_name','team_name', 'starting_position', 'pass_length', 'result_id', 'predicted_prob', 'predicted_class']]\n"
   ]
  },
  {
   "cell_type": "code",
   "execution_count": null,
   "id": "7f6baa78",
   "metadata": {},
   "outputs": [],
   "source": [
    "def first_non_substitute(positions):\n",
    "    for position in positions:\n",
    "        if position != 'Substitute':\n",
    "            return position\n",
    "    return 'Substitute'  # Default if all are 'Substitute'\n",
    "\n",
    "average_predicted_prob = result.groupby('player_name').agg(\n",
    "    team=('team_name', 'first'),\n",
    "    average_predicted_prob=('predicted_prob', 'mean'),\n",
    "    number_of_passes=('predicted_prob', 'size'),\n",
    "    starting_position=('starting_position', lambda x: first_non_substitute(x)),\n",
    "    average_pass_distance=('pass_length', 'mean'),\n",
    ").reset_index()\n",
    "\n",
    "# Filter players with more than 50 passes\n",
    "average_predicted_prob = average_predicted_prob[average_predicted_prob['number_of_passes'] > 50]\n",
    "\n",
    "# Sort by average_predicted_prob\n",
    "average_predicted_prob = average_predicted_prob.sort_values(by='average_predicted_prob', ascending=True)\n",
    "\n",
    "print(average_predicted_prob)"
   ]
  },
  {
   "cell_type": "code",
   "execution_count": 61,
   "id": "d60a2956",
   "metadata": {},
   "outputs": [],
   "source": [
    "average_predicted_prob.to_csv('average_predicted_prob.csv', index=False, encoding='utf-8-sig')"
   ]
  },
  {
   "cell_type": "code",
   "execution_count": null,
   "id": "f6219f35",
   "metadata": {},
   "outputs": [],
   "source": [
    "average_predicted_prob = result.groupby('team_name').agg(\n",
    "    average_predicted_prob=('predicted_prob', 'mean'),\n",
    "    number_of_passes=('predicted_prob', 'size'),\n",
    "    average_length_pass=('pass_length', 'mean'),\n",
    ").reset_index()\n",
    "\n",
    "# Filter players with more than 50 passes\n",
    "average_predicted_prob = average_predicted_prob[average_predicted_prob['number_of_passes'] > 50]\n",
    "\n",
    "# Sort by average_predicted_prob\n",
    "average_predicted_prob = average_predicted_prob.sort_values(by='average_predicted_prob', ascending=True)\n",
    "\n",
    "print(average_predicted_prob)\n",
    "average_predicted_prob.to_csv('average_predicted_prob_team.csv', index=False, encoding='utf-8-sig')"
   ]
  },
  {
   "cell_type": "code",
   "execution_count": 45,
   "id": "d35ccfa9",
   "metadata": {},
   "outputs": [
    {
     "name": "stdout",
     "output_type": "stream",
     "text": [
      "Overall Average Predicted Probability: 0.836328\n"
     ]
    }
   ],
   "source": [
    "overall_average_predicted_prob = result['predicted_prob'].mean()\n",
    "print(f\"Overall Average Predicted Probability: {overall_average_predicted_prob:.6f}\")"
   ]
  },
  {
   "cell_type": "code",
   "execution_count": 74,
   "id": "ea544e37",
   "metadata": {},
   "outputs": [
    {
     "name": "stdout",
     "output_type": "stream",
     "text": [
      "Percentage of times result_id = 1: 83.49%\n"
     ]
    }
   ],
   "source": [
    "percentage_result_id_1 = (df['result_id'].value_counts(normalize=True)[1] * 100)\n",
    "print(f\"Percentage of times result_id = 1: {percentage_result_id_1:.2f}%\")"
   ]
  }
 ],
 "metadata": {
  "kernelspec": {
   "display_name": ".venv",
   "language": "python",
   "name": "python3"
  },
  "language_info": {
   "codemirror_mode": {
    "name": "ipython",
    "version": 3
   },
   "file_extension": ".py",
   "mimetype": "text/x-python",
   "name": "python",
   "nbconvert_exporter": "python",
   "pygments_lexer": "ipython3",
   "version": "3.11.9"
  }
 },
 "nbformat": 4,
 "nbformat_minor": 5
}
